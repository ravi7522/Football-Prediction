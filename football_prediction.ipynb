{
  "cells": [
    {
      "cell_type": "code",
      "execution_count": 2,
      "metadata": {
        "id": "EDeJex3c1fmx"
      },
      "outputs": [],
      "source": [
        "# importing nacessary libraries\n",
        "import sqlite3\n",
        "import pandas as pd\n",
        "import seaborn as sns\n",
        "import matplotlib.pyplot as plt\n",
        "import numpy as np\n",
        "%matplotlib inline\n",
        "pd.set_option('display.max_columns', None)\n",
        "pd.set_option('display.max_rows', None)"
      ]
    },
    {
      "cell_type": "code",
      "execution_count": 3,
      "metadata": {
        "id": "LsNtk3LE13Bj"
      },
      "outputs": [],
      "source": [
        "# reading the .pkl file which containes the list of features required\n",
        "df = pd.read_pickle(\"merged_all_table.pkl\", compression='bz2')"
      ]
    },
    {
      "cell_type": "code",
      "execution_count": 3,
      "metadata": {},
      "outputs": [
        {
          "data": {
            "text/plain": [
              "(25979, 66)"
            ]
          },
          "execution_count": 3,
          "metadata": {},
          "output_type": "execute_result"
        }
      ],
      "source": [
        "# checking the shape of the data\n",
        "df.shape"
      ]
    },
    {
      "cell_type": "code",
      "execution_count": 4,
      "metadata": {},
      "outputs": [
        {
          "data": {
            "text/plain": [
              "match_api_id                            0\n",
              "goal                                11762\n",
              "shoton                              11762\n",
              "shotoff                             11762\n",
              "foulcommit                          11762\n",
              "card                                11762\n",
              "cross                               11762\n",
              "corner                              11762\n",
              "possession                          11762\n",
              "B365H                                3387\n",
              "B365D                                3387\n",
              "B365A                                3387\n",
              "BWH                                  3404\n",
              "BWD                                  3404\n",
              "BWA                                  3404\n",
              "IWH                                  3459\n",
              "IWD                                  3459\n",
              "IWA                                  3459\n",
              "LBH                                  3423\n",
              "LBD                                  3423\n",
              "LBA                                  3423\n",
              "PSH                                 14811\n",
              "PSD                                 14811\n",
              "PSA                                 14811\n",
              "WHH                                  3408\n",
              "WHD                                  3408\n",
              "WHA                                  3408\n",
              "SJH                                  8882\n",
              "SJD                                  8882\n",
              "SJA                                  8882\n",
              "VCH                                  3411\n",
              "VCD                                  3411\n",
              "VCA                                  3411\n",
              "GBH                                 11817\n",
              "GBD                                 11817\n",
              "GBA                                 11817\n",
              "BSH                                 11818\n",
              "BSD                                 11818\n",
              "BSA                                 11818\n",
              "league_name                             0\n",
              "country_name                            0\n",
              "team_api_id                             0\n",
              "team_long_name                          0\n",
              "team_short_name                         0\n",
              "team_overall_score                      0\n",
              "home_total_goal                         0\n",
              "away_total_goal                         0\n",
              "home_players_avg_overall_rating         0\n",
              "home_players_avg_overall_score          0\n",
              "home_players_avg_ideal_body_rate        0\n",
              "away_players_avg_overall_rating         0\n",
              "away_players_avg_overall_score          0\n",
              "away_players_avg_ideal_body_rate        0\n",
              "home_total_win                          0\n",
              "home_total_loose                        0\n",
              "home_total_draw                         0\n",
              "away_total_win                          0\n",
              "away_total_loose                        0\n",
              "away_total_draw                         0\n",
              "league_home_total_win                   0\n",
              "league_home_total_loose                 0\n",
              "league_home_total_draw                  0\n",
              "league_away_total_win                   0\n",
              "league_away_total_loose                 0\n",
              "league_away_total_draw                  0\n",
              "target                                  0\n",
              "dtype: int64"
            ]
          },
          "execution_count": 4,
          "metadata": {},
          "output_type": "execute_result"
        }
      ],
      "source": [
        "# checking for null values\n",
        "df.isna().sum()"
      ]
    },
    {
      "attachments": {},
      "cell_type": "markdown",
      "metadata": {},
      "source": [
        "# Preprocessing"
      ]
    },
    {
      "cell_type": "code",
      "execution_count": 29,
      "metadata": {},
      "outputs": [
        {
          "data": {
            "text/html": [
              "<div>\n",
              "<style scoped>\n",
              "    .dataframe tbody tr th:only-of-type {\n",
              "        vertical-align: middle;\n",
              "    }\n",
              "\n",
              "    .dataframe tbody tr th {\n",
              "        vertical-align: top;\n",
              "    }\n",
              "\n",
              "    .dataframe thead th {\n",
              "        text-align: right;\n",
              "    }\n",
              "</style>\n",
              "<table border=\"1\" class=\"dataframe\">\n",
              "  <thead>\n",
              "    <tr style=\"text-align: right;\">\n",
              "      <th></th>\n",
              "      <th>match_api_id</th>\n",
              "      <th>goal</th>\n",
              "      <th>shoton</th>\n",
              "      <th>shotoff</th>\n",
              "      <th>foulcommit</th>\n",
              "      <th>card</th>\n",
              "      <th>cross</th>\n",
              "      <th>corner</th>\n",
              "      <th>possession</th>\n",
              "      <th>B365H</th>\n",
              "      <th>B365D</th>\n",
              "      <th>B365A</th>\n",
              "      <th>BWH</th>\n",
              "      <th>BWD</th>\n",
              "      <th>BWA</th>\n",
              "      <th>IWH</th>\n",
              "      <th>IWD</th>\n",
              "      <th>IWA</th>\n",
              "      <th>LBH</th>\n",
              "      <th>LBD</th>\n",
              "      <th>LBA</th>\n",
              "      <th>PSH</th>\n",
              "      <th>PSD</th>\n",
              "      <th>PSA</th>\n",
              "      <th>WHH</th>\n",
              "      <th>WHD</th>\n",
              "      <th>WHA</th>\n",
              "      <th>SJH</th>\n",
              "      <th>SJD</th>\n",
              "      <th>SJA</th>\n",
              "      <th>VCH</th>\n",
              "      <th>VCD</th>\n",
              "      <th>VCA</th>\n",
              "      <th>GBH</th>\n",
              "      <th>GBD</th>\n",
              "      <th>GBA</th>\n",
              "      <th>BSH</th>\n",
              "      <th>BSD</th>\n",
              "      <th>BSA</th>\n",
              "      <th>league_name</th>\n",
              "      <th>country_name</th>\n",
              "      <th>team_api_id</th>\n",
              "      <th>team_long_name</th>\n",
              "      <th>team_short_name</th>\n",
              "      <th>team_overall_score</th>\n",
              "      <th>home_total_goal</th>\n",
              "      <th>away_total_goal</th>\n",
              "      <th>home_players_avg_overall_rating</th>\n",
              "      <th>home_players_avg_overall_score</th>\n",
              "      <th>home_players_avg_ideal_body_rate</th>\n",
              "      <th>away_players_avg_overall_rating</th>\n",
              "      <th>away_players_avg_overall_score</th>\n",
              "      <th>away_players_avg_ideal_body_rate</th>\n",
              "      <th>home_total_win</th>\n",
              "      <th>home_total_loose</th>\n",
              "      <th>home_total_draw</th>\n",
              "      <th>away_total_win</th>\n",
              "      <th>away_total_loose</th>\n",
              "      <th>away_total_draw</th>\n",
              "      <th>league_home_total_win</th>\n",
              "      <th>league_home_total_loose</th>\n",
              "      <th>league_home_total_draw</th>\n",
              "      <th>league_away_total_win</th>\n",
              "      <th>league_away_total_loose</th>\n",
              "      <th>league_away_total_draw</th>\n",
              "      <th>target</th>\n",
              "    </tr>\n",
              "  </thead>\n",
              "  <tbody>\n",
              "    <tr>\n",
              "      <th>0</th>\n",
              "      <td>492473</td>\n",
              "      <td>None</td>\n",
              "      <td>None</td>\n",
              "      <td>None</td>\n",
              "      <td>None</td>\n",
              "      <td>None</td>\n",
              "      <td>None</td>\n",
              "      <td>None</td>\n",
              "      <td>None</td>\n",
              "      <td>1.73</td>\n",
              "      <td>3.40</td>\n",
              "      <td>5.00</td>\n",
              "      <td>1.75</td>\n",
              "      <td>3.35</td>\n",
              "      <td>4.20</td>\n",
              "      <td>1.85</td>\n",
              "      <td>3.2</td>\n",
              "      <td>3.5</td>\n",
              "      <td>1.80</td>\n",
              "      <td>3.30</td>\n",
              "      <td>3.75</td>\n",
              "      <td>NaN</td>\n",
              "      <td>NaN</td>\n",
              "      <td>NaN</td>\n",
              "      <td>1.70</td>\n",
              "      <td>3.30</td>\n",
              "      <td>4.33</td>\n",
              "      <td>1.90</td>\n",
              "      <td>3.30</td>\n",
              "      <td>4.0</td>\n",
              "      <td>1.65</td>\n",
              "      <td>3.4</td>\n",
              "      <td>4.50</td>\n",
              "      <td>1.78</td>\n",
              "      <td>3.25</td>\n",
              "      <td>4.00</td>\n",
              "      <td>1.73</td>\n",
              "      <td>3.4</td>\n",
              "      <td>4.2</td>\n",
              "      <td>Belgium Jupiler League</td>\n",
              "      <td>Belgium</td>\n",
              "      <td>9987</td>\n",
              "      <td>KRC Genk</td>\n",
              "      <td>GEN</td>\n",
              "      <td>51.777778</td>\n",
              "      <td>205</td>\n",
              "      <td>62</td>\n",
              "      <td>71.675820</td>\n",
              "      <td>53.755414</td>\n",
              "      <td>53.021773</td>\n",
              "      <td>55.296152</td>\n",
              "      <td>51.425492</td>\n",
              "      <td>69.701636</td>\n",
              "      <td>61</td>\n",
              "      <td>20</td>\n",
              "      <td>25</td>\n",
              "      <td>10</td>\n",
              "      <td>49</td>\n",
              "      <td>17</td>\n",
              "      <td>810</td>\n",
              "      <td>493</td>\n",
              "      <td>425</td>\n",
              "      <td>493</td>\n",
              "      <td>810</td>\n",
              "      <td>425</td>\n",
              "      <td>Draw</td>\n",
              "    </tr>\n",
              "    <tr>\n",
              "      <th>1</th>\n",
              "      <td>665353</td>\n",
              "      <td>None</td>\n",
              "      <td>None</td>\n",
              "      <td>None</td>\n",
              "      <td>None</td>\n",
              "      <td>None</td>\n",
              "      <td>None</td>\n",
              "      <td>None</td>\n",
              "      <td>None</td>\n",
              "      <td>1.75</td>\n",
              "      <td>3.50</td>\n",
              "      <td>4.33</td>\n",
              "      <td>1.80</td>\n",
              "      <td>3.40</td>\n",
              "      <td>3.95</td>\n",
              "      <td>1.70</td>\n",
              "      <td>3.3</td>\n",
              "      <td>4.0</td>\n",
              "      <td>1.72</td>\n",
              "      <td>3.40</td>\n",
              "      <td>4.00</td>\n",
              "      <td>NaN</td>\n",
              "      <td>NaN</td>\n",
              "      <td>NaN</td>\n",
              "      <td>1.70</td>\n",
              "      <td>3.30</td>\n",
              "      <td>4.33</td>\n",
              "      <td>1.90</td>\n",
              "      <td>3.40</td>\n",
              "      <td>4.0</td>\n",
              "      <td>1.80</td>\n",
              "      <td>3.3</td>\n",
              "      <td>4.00</td>\n",
              "      <td>1.90</td>\n",
              "      <td>3.25</td>\n",
              "      <td>3.75</td>\n",
              "      <td>1.83</td>\n",
              "      <td>3.3</td>\n",
              "      <td>3.8</td>\n",
              "      <td>Belgium Jupiler League</td>\n",
              "      <td>Belgium</td>\n",
              "      <td>9987</td>\n",
              "      <td>KRC Genk</td>\n",
              "      <td>GEN</td>\n",
              "      <td>51.777778</td>\n",
              "      <td>205</td>\n",
              "      <td>62</td>\n",
              "      <td>69.363636</td>\n",
              "      <td>54.168449</td>\n",
              "      <td>51.416844</td>\n",
              "      <td>51.823529</td>\n",
              "      <td>52.195674</td>\n",
              "      <td>64.173867</td>\n",
              "      <td>61</td>\n",
              "      <td>20</td>\n",
              "      <td>25</td>\n",
              "      <td>10</td>\n",
              "      <td>49</td>\n",
              "      <td>17</td>\n",
              "      <td>810</td>\n",
              "      <td>493</td>\n",
              "      <td>425</td>\n",
              "      <td>493</td>\n",
              "      <td>810</td>\n",
              "      <td>425</td>\n",
              "      <td>Draw</td>\n",
              "    </tr>\n",
              "    <tr>\n",
              "      <th>2</th>\n",
              "      <td>838476</td>\n",
              "      <td>None</td>\n",
              "      <td>None</td>\n",
              "      <td>None</td>\n",
              "      <td>None</td>\n",
              "      <td>None</td>\n",
              "      <td>None</td>\n",
              "      <td>None</td>\n",
              "      <td>None</td>\n",
              "      <td>1.91</td>\n",
              "      <td>3.30</td>\n",
              "      <td>3.75</td>\n",
              "      <td>1.91</td>\n",
              "      <td>3.30</td>\n",
              "      <td>3.70</td>\n",
              "      <td>1.90</td>\n",
              "      <td>3.2</td>\n",
              "      <td>3.4</td>\n",
              "      <td>1.91</td>\n",
              "      <td>3.20</td>\n",
              "      <td>3.50</td>\n",
              "      <td>NaN</td>\n",
              "      <td>NaN</td>\n",
              "      <td>NaN</td>\n",
              "      <td>1.83</td>\n",
              "      <td>3.30</td>\n",
              "      <td>4.00</td>\n",
              "      <td>2.00</td>\n",
              "      <td>3.30</td>\n",
              "      <td>3.8</td>\n",
              "      <td>1.80</td>\n",
              "      <td>3.3</td>\n",
              "      <td>3.80</td>\n",
              "      <td>1.95</td>\n",
              "      <td>3.25</td>\n",
              "      <td>3.50</td>\n",
              "      <td>NaN</td>\n",
              "      <td>NaN</td>\n",
              "      <td>NaN</td>\n",
              "      <td>Belgium Jupiler League</td>\n",
              "      <td>Belgium</td>\n",
              "      <td>9987</td>\n",
              "      <td>KRC Genk</td>\n",
              "      <td>GEN</td>\n",
              "      <td>51.777778</td>\n",
              "      <td>205</td>\n",
              "      <td>62</td>\n",
              "      <td>73.090909</td>\n",
              "      <td>55.200535</td>\n",
              "      <td>51.095084</td>\n",
              "      <td>51.978610</td>\n",
              "      <td>51.999158</td>\n",
              "      <td>62.877866</td>\n",
              "      <td>61</td>\n",
              "      <td>20</td>\n",
              "      <td>25</td>\n",
              "      <td>10</td>\n",
              "      <td>49</td>\n",
              "      <td>17</td>\n",
              "      <td>810</td>\n",
              "      <td>493</td>\n",
              "      <td>425</td>\n",
              "      <td>493</td>\n",
              "      <td>810</td>\n",
              "      <td>425</td>\n",
              "      <td>HomeWin</td>\n",
              "    </tr>\n",
              "    <tr>\n",
              "      <th>3</th>\n",
              "      <td>1032694</td>\n",
              "      <td>None</td>\n",
              "      <td>None</td>\n",
              "      <td>None</td>\n",
              "      <td>None</td>\n",
              "      <td>None</td>\n",
              "      <td>None</td>\n",
              "      <td>None</td>\n",
              "      <td>None</td>\n",
              "      <td>1.44</td>\n",
              "      <td>4.33</td>\n",
              "      <td>7.00</td>\n",
              "      <td>1.45</td>\n",
              "      <td>3.95</td>\n",
              "      <td>6.25</td>\n",
              "      <td>1.50</td>\n",
              "      <td>3.7</td>\n",
              "      <td>5.0</td>\n",
              "      <td>1.44</td>\n",
              "      <td>3.75</td>\n",
              "      <td>6.00</td>\n",
              "      <td>NaN</td>\n",
              "      <td>NaN</td>\n",
              "      <td>NaN</td>\n",
              "      <td>1.40</td>\n",
              "      <td>4.33</td>\n",
              "      <td>7.00</td>\n",
              "      <td>1.44</td>\n",
              "      <td>4.20</td>\n",
              "      <td>6.5</td>\n",
              "      <td>1.44</td>\n",
              "      <td>4.5</td>\n",
              "      <td>7.00</td>\n",
              "      <td>1.45</td>\n",
              "      <td>4.00</td>\n",
              "      <td>6.25</td>\n",
              "      <td>1.44</td>\n",
              "      <td>4.0</td>\n",
              "      <td>6.5</td>\n",
              "      <td>Belgium Jupiler League</td>\n",
              "      <td>Belgium</td>\n",
              "      <td>9987</td>\n",
              "      <td>KRC Genk</td>\n",
              "      <td>GEN</td>\n",
              "      <td>51.777778</td>\n",
              "      <td>205</td>\n",
              "      <td>62</td>\n",
              "      <td>70.636364</td>\n",
              "      <td>53.858289</td>\n",
              "      <td>51.936991</td>\n",
              "      <td>52.377005</td>\n",
              "      <td>52.135293</td>\n",
              "      <td>63.835609</td>\n",
              "      <td>61</td>\n",
              "      <td>20</td>\n",
              "      <td>25</td>\n",
              "      <td>10</td>\n",
              "      <td>49</td>\n",
              "      <td>17</td>\n",
              "      <td>810</td>\n",
              "      <td>493</td>\n",
              "      <td>425</td>\n",
              "      <td>493</td>\n",
              "      <td>810</td>\n",
              "      <td>425</td>\n",
              "      <td>HomeWin</td>\n",
              "    </tr>\n",
              "    <tr>\n",
              "      <th>4</th>\n",
              "      <td>1224064</td>\n",
              "      <td>None</td>\n",
              "      <td>None</td>\n",
              "      <td>None</td>\n",
              "      <td>None</td>\n",
              "      <td>None</td>\n",
              "      <td>None</td>\n",
              "      <td>None</td>\n",
              "      <td>None</td>\n",
              "      <td>1.50</td>\n",
              "      <td>4.00</td>\n",
              "      <td>6.50</td>\n",
              "      <td>1.50</td>\n",
              "      <td>4.00</td>\n",
              "      <td>5.50</td>\n",
              "      <td>1.45</td>\n",
              "      <td>4.0</td>\n",
              "      <td>5.5</td>\n",
              "      <td>1.50</td>\n",
              "      <td>4.00</td>\n",
              "      <td>5.50</td>\n",
              "      <td>1.53</td>\n",
              "      <td>4.6</td>\n",
              "      <td>6.23</td>\n",
              "      <td>1.53</td>\n",
              "      <td>4.20</td>\n",
              "      <td>5.00</td>\n",
              "      <td>1.44</td>\n",
              "      <td>4.33</td>\n",
              "      <td>6.5</td>\n",
              "      <td>1.50</td>\n",
              "      <td>4.5</td>\n",
              "      <td>6.25</td>\n",
              "      <td>1.50</td>\n",
              "      <td>4.00</td>\n",
              "      <td>5.50</td>\n",
              "      <td>1.53</td>\n",
              "      <td>3.8</td>\n",
              "      <td>5.5</td>\n",
              "      <td>Belgium Jupiler League</td>\n",
              "      <td>Belgium</td>\n",
              "      <td>9987</td>\n",
              "      <td>KRC Genk</td>\n",
              "      <td>GEN</td>\n",
              "      <td>51.777778</td>\n",
              "      <td>205</td>\n",
              "      <td>62</td>\n",
              "      <td>70.545455</td>\n",
              "      <td>53.197861</td>\n",
              "      <td>52.631983</td>\n",
              "      <td>52.582888</td>\n",
              "      <td>52.074669</td>\n",
              "      <td>64.055530</td>\n",
              "      <td>61</td>\n",
              "      <td>20</td>\n",
              "      <td>25</td>\n",
              "      <td>10</td>\n",
              "      <td>49</td>\n",
              "      <td>17</td>\n",
              "      <td>810</td>\n",
              "      <td>493</td>\n",
              "      <td>425</td>\n",
              "      <td>493</td>\n",
              "      <td>810</td>\n",
              "      <td>425</td>\n",
              "      <td>HomeWin</td>\n",
              "    </tr>\n",
              "  </tbody>\n",
              "</table>\n",
              "</div>"
            ],
            "text/plain": [
              "   match_api_id  goal shoton shotoff foulcommit  card cross corner possession  \\\n",
              "0        492473  None   None    None       None  None  None   None       None   \n",
              "1        665353  None   None    None       None  None  None   None       None   \n",
              "2        838476  None   None    None       None  None  None   None       None   \n",
              "3       1032694  None   None    None       None  None  None   None       None   \n",
              "4       1224064  None   None    None       None  None  None   None       None   \n",
              "\n",
              "   B365H  B365D  B365A   BWH   BWD   BWA   IWH  IWD  IWA   LBH   LBD   LBA  \\\n",
              "0   1.73   3.40   5.00  1.75  3.35  4.20  1.85  3.2  3.5  1.80  3.30  3.75   \n",
              "1   1.75   3.50   4.33  1.80  3.40  3.95  1.70  3.3  4.0  1.72  3.40  4.00   \n",
              "2   1.91   3.30   3.75  1.91  3.30  3.70  1.90  3.2  3.4  1.91  3.20  3.50   \n",
              "3   1.44   4.33   7.00  1.45  3.95  6.25  1.50  3.7  5.0  1.44  3.75  6.00   \n",
              "4   1.50   4.00   6.50  1.50  4.00  5.50  1.45  4.0  5.5  1.50  4.00  5.50   \n",
              "\n",
              "    PSH  PSD   PSA   WHH   WHD   WHA   SJH   SJD  SJA   VCH  VCD   VCA   GBH  \\\n",
              "0   NaN  NaN   NaN  1.70  3.30  4.33  1.90  3.30  4.0  1.65  3.4  4.50  1.78   \n",
              "1   NaN  NaN   NaN  1.70  3.30  4.33  1.90  3.40  4.0  1.80  3.3  4.00  1.90   \n",
              "2   NaN  NaN   NaN  1.83  3.30  4.00  2.00  3.30  3.8  1.80  3.3  3.80  1.95   \n",
              "3   NaN  NaN   NaN  1.40  4.33  7.00  1.44  4.20  6.5  1.44  4.5  7.00  1.45   \n",
              "4  1.53  4.6  6.23  1.53  4.20  5.00  1.44  4.33  6.5  1.50  4.5  6.25  1.50   \n",
              "\n",
              "    GBD   GBA   BSH  BSD  BSA             league_name country_name  \\\n",
              "0  3.25  4.00  1.73  3.4  4.2  Belgium Jupiler League      Belgium   \n",
              "1  3.25  3.75  1.83  3.3  3.8  Belgium Jupiler League      Belgium   \n",
              "2  3.25  3.50   NaN  NaN  NaN  Belgium Jupiler League      Belgium   \n",
              "3  4.00  6.25  1.44  4.0  6.5  Belgium Jupiler League      Belgium   \n",
              "4  4.00  5.50  1.53  3.8  5.5  Belgium Jupiler League      Belgium   \n",
              "\n",
              "   team_api_id team_long_name team_short_name  team_overall_score  \\\n",
              "0         9987       KRC Genk             GEN           51.777778   \n",
              "1         9987       KRC Genk             GEN           51.777778   \n",
              "2         9987       KRC Genk             GEN           51.777778   \n",
              "3         9987       KRC Genk             GEN           51.777778   \n",
              "4         9987       KRC Genk             GEN           51.777778   \n",
              "\n",
              "   home_total_goal  away_total_goal  home_players_avg_overall_rating  \\\n",
              "0              205               62                        71.675820   \n",
              "1              205               62                        69.363636   \n",
              "2              205               62                        73.090909   \n",
              "3              205               62                        70.636364   \n",
              "4              205               62                        70.545455   \n",
              "\n",
              "   home_players_avg_overall_score  home_players_avg_ideal_body_rate  \\\n",
              "0                       53.755414                         53.021773   \n",
              "1                       54.168449                         51.416844   \n",
              "2                       55.200535                         51.095084   \n",
              "3                       53.858289                         51.936991   \n",
              "4                       53.197861                         52.631983   \n",
              "\n",
              "   away_players_avg_overall_rating  away_players_avg_overall_score  \\\n",
              "0                        55.296152                       51.425492   \n",
              "1                        51.823529                       52.195674   \n",
              "2                        51.978610                       51.999158   \n",
              "3                        52.377005                       52.135293   \n",
              "4                        52.582888                       52.074669   \n",
              "\n",
              "   away_players_avg_ideal_body_rate  home_total_win  home_total_loose  \\\n",
              "0                         69.701636              61                20   \n",
              "1                         64.173867              61                20   \n",
              "2                         62.877866              61                20   \n",
              "3                         63.835609              61                20   \n",
              "4                         64.055530              61                20   \n",
              "\n",
              "   home_total_draw  away_total_win  away_total_loose  away_total_draw  \\\n",
              "0               25              10                49               17   \n",
              "1               25              10                49               17   \n",
              "2               25              10                49               17   \n",
              "3               25              10                49               17   \n",
              "4               25              10                49               17   \n",
              "\n",
              "   league_home_total_win  league_home_total_loose  league_home_total_draw  \\\n",
              "0                    810                      493                     425   \n",
              "1                    810                      493                     425   \n",
              "2                    810                      493                     425   \n",
              "3                    810                      493                     425   \n",
              "4                    810                      493                     425   \n",
              "\n",
              "   league_away_total_win  league_away_total_loose  league_away_total_draw  \\\n",
              "0                    493                      810                     425   \n",
              "1                    493                      810                     425   \n",
              "2                    493                      810                     425   \n",
              "3                    493                      810                     425   \n",
              "4                    493                      810                     425   \n",
              "\n",
              "    target  \n",
              "0     Draw  \n",
              "1     Draw  \n",
              "2  HomeWin  \n",
              "3  HomeWin  \n",
              "4  HomeWin  "
            ]
          },
          "execution_count": 29,
          "metadata": {},
          "output_type": "execute_result"
        }
      ],
      "source": [
        "df.head()"
      ]
    },
    {
      "cell_type": "code",
      "execution_count": null,
      "metadata": {},
      "outputs": [],
      "source": [
        "df[df['']]"
      ]
    },
    {
      "cell_type": "code",
      "execution_count": 5,
      "metadata": {
        "id": "Gd7pi1zi-0Em"
      },
      "outputs": [],
      "source": [
        "# creating a deep copy of match \n",
        "match_df = df.copy()"
      ]
    },
    {
      "cell_type": "code",
      "execution_count": 6,
      "metadata": {},
      "outputs": [
        {
          "data": {
            "text/plain": [
              "Index(['match_api_id', 'goal', 'shoton', 'shotoff', 'foulcommit', 'card',\n",
              "       'cross', 'corner', 'possession', 'B365H', 'B365D', 'B365A', 'BWH',\n",
              "       'BWD', 'BWA', 'IWH', 'IWD', 'IWA', 'LBH', 'LBD', 'LBA', 'PSH', 'PSD',\n",
              "       'PSA', 'WHH', 'WHD', 'WHA', 'SJH', 'SJD', 'SJA', 'VCH', 'VCD', 'VCA',\n",
              "       'GBH', 'GBD', 'GBA', 'BSH', 'BSD', 'BSA', 'league_name', 'country_name',\n",
              "       'team_api_id', 'team_long_name', 'team_short_name',\n",
              "       'team_overall_score', 'home_total_goal', 'away_total_goal',\n",
              "       'home_players_avg_overall_rating', 'home_players_avg_overall_score',\n",
              "       'home_players_avg_ideal_body_rate', 'away_players_avg_overall_rating',\n",
              "       'away_players_avg_overall_score', 'away_players_avg_ideal_body_rate',\n",
              "       'home_total_win', 'home_total_loose', 'home_total_draw',\n",
              "       'away_total_win', 'away_total_loose', 'away_total_draw',\n",
              "       'league_home_total_win', 'league_home_total_loose',\n",
              "       'league_home_total_draw', 'league_away_total_win',\n",
              "       'league_away_total_loose', 'league_away_total_draw', 'target'],\n",
              "      dtype='object')"
            ]
          },
          "execution_count": 6,
          "metadata": {},
          "output_type": "execute_result"
        }
      ],
      "source": [
        "match_df.columns"
      ]
    },
    {
      "cell_type": "code",
      "execution_count": 7,
      "metadata": {
        "id": "hOpT3jep_iCS"
      },
      "outputs": [],
      "source": [
        "# #droping some columns\n",
        "# cols_to_drop =['match_api_id' ,'home_team_api_id' ,'away_team_api_id','PSH', 'PSD', 'PSA','GBH', 'GBD', 'GBA','BSH', 'BSD', 'BSA','home_player_X1' ,'home_player_X2' ,'home_player_X3' ,'home_player_X4' ,'home_player_X5' ,'home_player_X6' ,\n",
        "#                'home_player_X7' ,'home_player_X8' ,'home_player_X9' ,'home_player_X10' ,'home_player_X11' ,'away_player_X1' ,'away_player_X2' ,\n",
        "#                'away_player_X3' ,'away_player_X4' ,'away_player_X5' ,'away_player_X6' ,'away_player_X7' ,'away_player_X8' ,'away_player_X9' ,\n",
        "#                'away_player_X10' ,'away_player_X11' ,'home_player_Y1' ,'home_player_Y2' ,'home_player_Y3' ,'home_player_Y4' ,'home_player_Y5' ,\n",
        "#                'home_player_Y6' ,'home_player_Y7' ,'home_player_Y8' ,'home_player_Y9' ,'home_player_Y10' ,'home_player_Y11' ,'away_player_Y1' ,\n",
        "#                'away_player_Y2' ,'away_player_Y3' ,'away_player_Y4' ,'away_player_Y5' ,'away_player_Y6' ,'away_player_Y7' ,'away_player_Y8' ,\n",
        "#                'away_player_Y9' ,'away_player_Y10' ,'away_player_Y11' ,'goal' ,'shoton' ,'shotoff' ,'foulcommit' ,'card' ,'cross' ,'corner' ,\n",
        "#                'possession','season', 'stage', 'date','country_name', 'league_name','season','stage','date',\"goal\", \"shoton\", \"shotoff\", \"foulcommit\", \"card\", \"cross\", \"corner\", \"possession\"]\n",
        "# match_df.drop(columns=cols_to_drop, inplace = True)\n",
        "\n",
        "# # before removing bets\n",
        "# cols_to_drop =['match_api_id' ,'PSH', 'PSD', 'PSA','GBH', 'GBD', 'GBA','BSH', 'BSD', 'BSA',\n",
        "#                'goal' ,'shoton' ,'shotoff' ,'foulcommit' ,'card' ,'cross' ,'corner' , 'possession',\n",
        "#                'country_name', 'league_name', 'team_long_name', 'team_short_name']\n",
        "# match_df.drop(columns=cols_to_drop, inplace = True)\n",
        "\n",
        "# removing bets too\n",
        "cols_to_drop =['match_api_id' , 'B365H', 'B365D', 'B365A', 'BWH',\n",
        "                'BWD', 'BWA', 'IWH', 'IWD', 'IWA', 'LBH', 'LBD', 'LBA', 'PSH', 'PSD',\n",
        "                'PSA', 'WHH', 'WHD', 'WHA', 'SJH', 'SJD', 'SJA', 'VCH', 'VCD', 'VCA',\n",
        "                'GBH', 'GBD', 'GBA', 'BSH', 'BSD', 'BSA', 'team_api_id',\n",
        "               'goal' ,'shoton' ,'shotoff' ,'foulcommit' ,'card' ,'cross' ,'corner' , 'possession',\n",
        "               'country_name', 'league_name', 'team_long_name', 'team_short_name']\n",
        "match_df.drop(columns=cols_to_drop, inplace = True)"
      ]
    },
    {
      "cell_type": "code",
      "execution_count": 8,
      "metadata": {
        "id": "ZVXJMRhuA5fw"
      },
      "outputs": [
        {
          "data": {
            "text/plain": [
              "(25979, 22)"
            ]
          },
          "execution_count": 8,
          "metadata": {},
          "output_type": "execute_result"
        }
      ],
      "source": [
        "# shape after dropping columns\n",
        "match_df.shape"
      ]
    },
    {
      "cell_type": "code",
      "execution_count": 9,
      "metadata": {},
      "outputs": [],
      "source": [
        "# creating input and output for the model\n",
        "X = match_df.drop(columns=['target'])\n",
        "y= match_df[['target']]"
      ]
    },
    {
      "cell_type": "code",
      "execution_count": 10,
      "metadata": {},
      "outputs": [
        {
          "data": {
            "text/plain": [
              "(25979, 21)"
            ]
          },
          "execution_count": 10,
          "metadata": {},
          "output_type": "execute_result"
        }
      ],
      "source": [
        "# input shape\n",
        "X.shape"
      ]
    },
    {
      "cell_type": "code",
      "execution_count": 11,
      "metadata": {},
      "outputs": [
        {
          "data": {
            "text/plain": [
              "team_overall_score                  float64\n",
              "home_total_goal                       int64\n",
              "away_total_goal                       int64\n",
              "home_players_avg_overall_rating     float64\n",
              "home_players_avg_overall_score      float64\n",
              "home_players_avg_ideal_body_rate    float64\n",
              "away_players_avg_overall_rating     float64\n",
              "away_players_avg_overall_score      float64\n",
              "away_players_avg_ideal_body_rate    float64\n",
              "home_total_win                        int64\n",
              "home_total_loose                      int64\n",
              "home_total_draw                       int64\n",
              "away_total_win                        int64\n",
              "away_total_loose                      int64\n",
              "away_total_draw                       int64\n",
              "league_home_total_win                 int64\n",
              "league_home_total_loose               int64\n",
              "league_home_total_draw                int64\n",
              "league_away_total_win                 int64\n",
              "league_away_total_loose               int64\n",
              "league_away_total_draw                int64\n",
              "dtype: object"
            ]
          },
          "execution_count": 11,
          "metadata": {},
          "output_type": "execute_result"
        }
      ],
      "source": [
        "# checking for data types\n",
        "X.dtypes"
      ]
    },
    {
      "attachments": {},
      "cell_type": "markdown",
      "metadata": {},
      "source": [
        "## Handling Missing Values"
      ]
    },
    {
      "cell_type": "code",
      "execution_count": 12,
      "metadata": {},
      "outputs": [
        {
          "name": "stderr",
          "output_type": "stream",
          "text": [
            "c:\\Anaconda3\\lib\\site-packages\\sklearn\\preprocessing\\_label.py:116: DataConversionWarning: A column-vector y was passed when a 1d array was expected. Please change the shape of y to (n_samples, ), for example using ravel().\n",
            "  y = column_or_1d(y, warn=True)\n"
          ]
        }
      ],
      "source": [
        "# handling missing values\n",
        "from sklearn.impute import SimpleImputer\n",
        "from sklearn.preprocessing import StandardScaler\n",
        "from sklearn.preprocessing import LabelEncoder\n",
        "\n",
        "# Perform missing value imputation using 'mean' strategy for numeric columns\n",
        "numeric_imputer = SimpleImputer(strategy='mean')\n",
        "X = numeric_imputer.fit_transform(X)\n",
        "sc = StandardScaler()\n",
        "X_preprocess = sc.fit_transform(X)\n",
        "le = LabelEncoder()\n",
        "y_le_encoded = le.fit_transform(y)"
      ]
    },
    {
      "cell_type": "code",
      "execution_count": 13,
      "metadata": {},
      "outputs": [],
      "source": [
        "from sklearn.model_selection import cross_val_score\n",
        "from sklearn.metrics import confusion_matrix, f1_score, precision_score, recall_score, precision_recall_fscore_support\n",
        "from sklearn.linear_model import LogisticRegression\n",
        "from sklearn.tree import DecisionTreeClassifier\n",
        "from sklearn.ensemble import RandomForestClassifier\n",
        "from sklearn.naive_bayes import GaussianNB\n",
        "from sklearn.svm import SVC\n",
        "import xgboost as xgb\n",
        "from lightgbm import LGBMClassifier\n",
        "import warnings\n",
        "warnings.filterwarnings('ignore')"
      ]
    },
    {
      "cell_type": "code",
      "execution_count": 14,
      "metadata": {},
      "outputs": [
        {
          "name": "stdout",
          "output_type": "stream",
          "text": [
            "Classifier: LogisticRegression\n",
            "Accuracy: 0.5371261894653546\n",
            "\n",
            "Classifier: DecisionTreeClassifier\n",
            "Accuracy: 0.39628239239334917\n",
            "\n",
            "Classifier: GaussianNB\n",
            "Accuracy: 0.5044844964772636\n",
            "\n"
          ]
        },
        {
          "ename": "KeyboardInterrupt",
          "evalue": "",
          "output_type": "error",
          "traceback": [
            "\u001b[1;31m---------------------------------------------------------------------------\u001b[0m",
            "\u001b[1;31mKeyboardInterrupt\u001b[0m                         Traceback (most recent call last)",
            "\u001b[1;32m~\\AppData\\Local\\Temp\\ipykernel_10304\\212108681.py\u001b[0m in \u001b[0;36m<module>\u001b[1;34m\u001b[0m\n\u001b[0;32m     11\u001b[0m \u001b[1;31m# Loop through each classifier and compute the accuracy\u001b[0m\u001b[1;33m\u001b[0m\u001b[1;33m\u001b[0m\u001b[1;33m\u001b[0m\u001b[0m\n\u001b[0;32m     12\u001b[0m \u001b[1;32mfor\u001b[0m \u001b[0mclassifier\u001b[0m \u001b[1;32min\u001b[0m \u001b[0mclassifiers\u001b[0m\u001b[1;33m:\u001b[0m\u001b[1;33m\u001b[0m\u001b[1;33m\u001b[0m\u001b[0m\n\u001b[1;32m---> 13\u001b[1;33m     \u001b[0mscores\u001b[0m \u001b[1;33m=\u001b[0m \u001b[0mcross_val_score\u001b[0m\u001b[1;33m(\u001b[0m\u001b[0mclassifier\u001b[0m\u001b[1;33m,\u001b[0m\u001b[0mX_preprocess\u001b[0m\u001b[1;33m,\u001b[0m \u001b[0my_le_encoded\u001b[0m\u001b[1;33m,\u001b[0m \u001b[0mcv\u001b[0m\u001b[1;33m=\u001b[0m\u001b[1;36m5\u001b[0m\u001b[1;33m)\u001b[0m\u001b[1;33m\u001b[0m\u001b[1;33m\u001b[0m\u001b[0m\n\u001b[0m\u001b[0;32m     14\u001b[0m     \u001b[0mavg_accuracy\u001b[0m \u001b[1;33m=\u001b[0m \u001b[0mscores\u001b[0m\u001b[1;33m.\u001b[0m\u001b[0mmean\u001b[0m\u001b[1;33m(\u001b[0m\u001b[1;33m)\u001b[0m\u001b[1;33m\u001b[0m\u001b[1;33m\u001b[0m\u001b[0m\n\u001b[0;32m     15\u001b[0m     \u001b[0mprint\u001b[0m\u001b[1;33m(\u001b[0m\u001b[1;34mf\"Classifier: {classifier.__class__.__name__}\"\u001b[0m\u001b[1;33m)\u001b[0m\u001b[1;33m\u001b[0m\u001b[1;33m\u001b[0m\u001b[0m\n",
            "\u001b[1;32mc:\\Anaconda3\\lib\\site-packages\\sklearn\\model_selection\\_validation.py\u001b[0m in \u001b[0;36mcross_val_score\u001b[1;34m(estimator, X, y, groups, scoring, cv, n_jobs, verbose, fit_params, pre_dispatch, error_score)\u001b[0m\n\u001b[0;32m    513\u001b[0m     \u001b[0mscorer\u001b[0m \u001b[1;33m=\u001b[0m \u001b[0mcheck_scoring\u001b[0m\u001b[1;33m(\u001b[0m\u001b[0mestimator\u001b[0m\u001b[1;33m,\u001b[0m \u001b[0mscoring\u001b[0m\u001b[1;33m=\u001b[0m\u001b[0mscoring\u001b[0m\u001b[1;33m)\u001b[0m\u001b[1;33m\u001b[0m\u001b[1;33m\u001b[0m\u001b[0m\n\u001b[0;32m    514\u001b[0m \u001b[1;33m\u001b[0m\u001b[0m\n\u001b[1;32m--> 515\u001b[1;33m     cv_results = cross_validate(\n\u001b[0m\u001b[0;32m    516\u001b[0m         \u001b[0mestimator\u001b[0m\u001b[1;33m=\u001b[0m\u001b[0mestimator\u001b[0m\u001b[1;33m,\u001b[0m\u001b[1;33m\u001b[0m\u001b[1;33m\u001b[0m\u001b[0m\n\u001b[0;32m    517\u001b[0m         \u001b[0mX\u001b[0m\u001b[1;33m=\u001b[0m\u001b[0mX\u001b[0m\u001b[1;33m,\u001b[0m\u001b[1;33m\u001b[0m\u001b[1;33m\u001b[0m\u001b[0m\n",
            "\u001b[1;32mc:\\Anaconda3\\lib\\site-packages\\sklearn\\model_selection\\_validation.py\u001b[0m in \u001b[0;36mcross_validate\u001b[1;34m(estimator, X, y, groups, scoring, cv, n_jobs, verbose, fit_params, pre_dispatch, return_train_score, return_estimator, error_score)\u001b[0m\n\u001b[0;32m    264\u001b[0m     \u001b[1;31m# independent, and that it is pickle-able.\u001b[0m\u001b[1;33m\u001b[0m\u001b[1;33m\u001b[0m\u001b[1;33m\u001b[0m\u001b[0m\n\u001b[0;32m    265\u001b[0m     \u001b[0mparallel\u001b[0m \u001b[1;33m=\u001b[0m \u001b[0mParallel\u001b[0m\u001b[1;33m(\u001b[0m\u001b[0mn_jobs\u001b[0m\u001b[1;33m=\u001b[0m\u001b[0mn_jobs\u001b[0m\u001b[1;33m,\u001b[0m \u001b[0mverbose\u001b[0m\u001b[1;33m=\u001b[0m\u001b[0mverbose\u001b[0m\u001b[1;33m,\u001b[0m \u001b[0mpre_dispatch\u001b[0m\u001b[1;33m=\u001b[0m\u001b[0mpre_dispatch\u001b[0m\u001b[1;33m)\u001b[0m\u001b[1;33m\u001b[0m\u001b[1;33m\u001b[0m\u001b[0m\n\u001b[1;32m--> 266\u001b[1;33m     results = parallel(\n\u001b[0m\u001b[0;32m    267\u001b[0m         delayed(_fit_and_score)(\n\u001b[0;32m    268\u001b[0m             \u001b[0mclone\u001b[0m\u001b[1;33m(\u001b[0m\u001b[0mestimator\u001b[0m\u001b[1;33m)\u001b[0m\u001b[1;33m,\u001b[0m\u001b[1;33m\u001b[0m\u001b[1;33m\u001b[0m\u001b[0m\n",
            "\u001b[1;32mc:\\Anaconda3\\lib\\site-packages\\joblib\\parallel.py\u001b[0m in \u001b[0;36m__call__\u001b[1;34m(self, iterable)\u001b[0m\n\u001b[0;32m   1086\u001b[0m                 \u001b[0mself\u001b[0m\u001b[1;33m.\u001b[0m\u001b[0m_iterating\u001b[0m \u001b[1;33m=\u001b[0m \u001b[0mself\u001b[0m\u001b[1;33m.\u001b[0m\u001b[0m_original_iterator\u001b[0m \u001b[1;32mis\u001b[0m \u001b[1;32mnot\u001b[0m \u001b[1;32mNone\u001b[0m\u001b[1;33m\u001b[0m\u001b[1;33m\u001b[0m\u001b[0m\n\u001b[0;32m   1087\u001b[0m \u001b[1;33m\u001b[0m\u001b[0m\n\u001b[1;32m-> 1088\u001b[1;33m             \u001b[1;32mwhile\u001b[0m \u001b[0mself\u001b[0m\u001b[1;33m.\u001b[0m\u001b[0mdispatch_one_batch\u001b[0m\u001b[1;33m(\u001b[0m\u001b[0miterator\u001b[0m\u001b[1;33m)\u001b[0m\u001b[1;33m:\u001b[0m\u001b[1;33m\u001b[0m\u001b[1;33m\u001b[0m\u001b[0m\n\u001b[0m\u001b[0;32m   1089\u001b[0m                 \u001b[1;32mpass\u001b[0m\u001b[1;33m\u001b[0m\u001b[1;33m\u001b[0m\u001b[0m\n\u001b[0;32m   1090\u001b[0m \u001b[1;33m\u001b[0m\u001b[0m\n",
            "\u001b[1;32mc:\\Anaconda3\\lib\\site-packages\\joblib\\parallel.py\u001b[0m in \u001b[0;36mdispatch_one_batch\u001b[1;34m(self, iterator)\u001b[0m\n\u001b[0;32m    899\u001b[0m                 \u001b[1;32mreturn\u001b[0m \u001b[1;32mFalse\u001b[0m\u001b[1;33m\u001b[0m\u001b[1;33m\u001b[0m\u001b[0m\n\u001b[0;32m    900\u001b[0m             \u001b[1;32melse\u001b[0m\u001b[1;33m:\u001b[0m\u001b[1;33m\u001b[0m\u001b[1;33m\u001b[0m\u001b[0m\n\u001b[1;32m--> 901\u001b[1;33m                 \u001b[0mself\u001b[0m\u001b[1;33m.\u001b[0m\u001b[0m_dispatch\u001b[0m\u001b[1;33m(\u001b[0m\u001b[0mtasks\u001b[0m\u001b[1;33m)\u001b[0m\u001b[1;33m\u001b[0m\u001b[1;33m\u001b[0m\u001b[0m\n\u001b[0m\u001b[0;32m    902\u001b[0m                 \u001b[1;32mreturn\u001b[0m \u001b[1;32mTrue\u001b[0m\u001b[1;33m\u001b[0m\u001b[1;33m\u001b[0m\u001b[0m\n\u001b[0;32m    903\u001b[0m \u001b[1;33m\u001b[0m\u001b[0m\n",
            "\u001b[1;32mc:\\Anaconda3\\lib\\site-packages\\joblib\\parallel.py\u001b[0m in \u001b[0;36m_dispatch\u001b[1;34m(self, batch)\u001b[0m\n\u001b[0;32m    817\u001b[0m         \u001b[1;32mwith\u001b[0m \u001b[0mself\u001b[0m\u001b[1;33m.\u001b[0m\u001b[0m_lock\u001b[0m\u001b[1;33m:\u001b[0m\u001b[1;33m\u001b[0m\u001b[1;33m\u001b[0m\u001b[0m\n\u001b[0;32m    818\u001b[0m             \u001b[0mjob_idx\u001b[0m \u001b[1;33m=\u001b[0m \u001b[0mlen\u001b[0m\u001b[1;33m(\u001b[0m\u001b[0mself\u001b[0m\u001b[1;33m.\u001b[0m\u001b[0m_jobs\u001b[0m\u001b[1;33m)\u001b[0m\u001b[1;33m\u001b[0m\u001b[1;33m\u001b[0m\u001b[0m\n\u001b[1;32m--> 819\u001b[1;33m             \u001b[0mjob\u001b[0m \u001b[1;33m=\u001b[0m \u001b[0mself\u001b[0m\u001b[1;33m.\u001b[0m\u001b[0m_backend\u001b[0m\u001b[1;33m.\u001b[0m\u001b[0mapply_async\u001b[0m\u001b[1;33m(\u001b[0m\u001b[0mbatch\u001b[0m\u001b[1;33m,\u001b[0m \u001b[0mcallback\u001b[0m\u001b[1;33m=\u001b[0m\u001b[0mcb\u001b[0m\u001b[1;33m)\u001b[0m\u001b[1;33m\u001b[0m\u001b[1;33m\u001b[0m\u001b[0m\n\u001b[0m\u001b[0;32m    820\u001b[0m             \u001b[1;31m# A job can complete so quickly than its callback is\u001b[0m\u001b[1;33m\u001b[0m\u001b[1;33m\u001b[0m\u001b[1;33m\u001b[0m\u001b[0m\n\u001b[0;32m    821\u001b[0m             \u001b[1;31m# called before we get here, causing self._jobs to\u001b[0m\u001b[1;33m\u001b[0m\u001b[1;33m\u001b[0m\u001b[1;33m\u001b[0m\u001b[0m\n",
            "\u001b[1;32mc:\\Anaconda3\\lib\\site-packages\\joblib\\_parallel_backends.py\u001b[0m in \u001b[0;36mapply_async\u001b[1;34m(self, func, callback)\u001b[0m\n\u001b[0;32m    206\u001b[0m     \u001b[1;32mdef\u001b[0m \u001b[0mapply_async\u001b[0m\u001b[1;33m(\u001b[0m\u001b[0mself\u001b[0m\u001b[1;33m,\u001b[0m \u001b[0mfunc\u001b[0m\u001b[1;33m,\u001b[0m \u001b[0mcallback\u001b[0m\u001b[1;33m=\u001b[0m\u001b[1;32mNone\u001b[0m\u001b[1;33m)\u001b[0m\u001b[1;33m:\u001b[0m\u001b[1;33m\u001b[0m\u001b[1;33m\u001b[0m\u001b[0m\n\u001b[0;32m    207\u001b[0m         \u001b[1;34m\"\"\"Schedule a func to be run\"\"\"\u001b[0m\u001b[1;33m\u001b[0m\u001b[1;33m\u001b[0m\u001b[0m\n\u001b[1;32m--> 208\u001b[1;33m         \u001b[0mresult\u001b[0m \u001b[1;33m=\u001b[0m \u001b[0mImmediateResult\u001b[0m\u001b[1;33m(\u001b[0m\u001b[0mfunc\u001b[0m\u001b[1;33m)\u001b[0m\u001b[1;33m\u001b[0m\u001b[1;33m\u001b[0m\u001b[0m\n\u001b[0m\u001b[0;32m    209\u001b[0m         \u001b[1;32mif\u001b[0m \u001b[0mcallback\u001b[0m\u001b[1;33m:\u001b[0m\u001b[1;33m\u001b[0m\u001b[1;33m\u001b[0m\u001b[0m\n\u001b[0;32m    210\u001b[0m             \u001b[0mcallback\u001b[0m\u001b[1;33m(\u001b[0m\u001b[0mresult\u001b[0m\u001b[1;33m)\u001b[0m\u001b[1;33m\u001b[0m\u001b[1;33m\u001b[0m\u001b[0m\n",
            "\u001b[1;32mc:\\Anaconda3\\lib\\site-packages\\joblib\\_parallel_backends.py\u001b[0m in \u001b[0;36m__init__\u001b[1;34m(self, batch)\u001b[0m\n\u001b[0;32m    595\u001b[0m         \u001b[1;31m# Don't delay the application, to avoid keeping the input\u001b[0m\u001b[1;33m\u001b[0m\u001b[1;33m\u001b[0m\u001b[1;33m\u001b[0m\u001b[0m\n\u001b[0;32m    596\u001b[0m         \u001b[1;31m# arguments in memory\u001b[0m\u001b[1;33m\u001b[0m\u001b[1;33m\u001b[0m\u001b[1;33m\u001b[0m\u001b[0m\n\u001b[1;32m--> 597\u001b[1;33m         \u001b[0mself\u001b[0m\u001b[1;33m.\u001b[0m\u001b[0mresults\u001b[0m \u001b[1;33m=\u001b[0m \u001b[0mbatch\u001b[0m\u001b[1;33m(\u001b[0m\u001b[1;33m)\u001b[0m\u001b[1;33m\u001b[0m\u001b[1;33m\u001b[0m\u001b[0m\n\u001b[0m\u001b[0;32m    598\u001b[0m \u001b[1;33m\u001b[0m\u001b[0m\n\u001b[0;32m    599\u001b[0m     \u001b[1;32mdef\u001b[0m \u001b[0mget\u001b[0m\u001b[1;33m(\u001b[0m\u001b[0mself\u001b[0m\u001b[1;33m)\u001b[0m\u001b[1;33m:\u001b[0m\u001b[1;33m\u001b[0m\u001b[1;33m\u001b[0m\u001b[0m\n",
            "\u001b[1;32mc:\\Anaconda3\\lib\\site-packages\\joblib\\parallel.py\u001b[0m in \u001b[0;36m__call__\u001b[1;34m(self)\u001b[0m\n\u001b[0;32m    286\u001b[0m         \u001b[1;31m# change the default number of processes to -1\u001b[0m\u001b[1;33m\u001b[0m\u001b[1;33m\u001b[0m\u001b[1;33m\u001b[0m\u001b[0m\n\u001b[0;32m    287\u001b[0m         \u001b[1;32mwith\u001b[0m \u001b[0mparallel_backend\u001b[0m\u001b[1;33m(\u001b[0m\u001b[0mself\u001b[0m\u001b[1;33m.\u001b[0m\u001b[0m_backend\u001b[0m\u001b[1;33m,\u001b[0m \u001b[0mn_jobs\u001b[0m\u001b[1;33m=\u001b[0m\u001b[0mself\u001b[0m\u001b[1;33m.\u001b[0m\u001b[0m_n_jobs\u001b[0m\u001b[1;33m)\u001b[0m\u001b[1;33m:\u001b[0m\u001b[1;33m\u001b[0m\u001b[1;33m\u001b[0m\u001b[0m\n\u001b[1;32m--> 288\u001b[1;33m             return [func(*args, **kwargs)\n\u001b[0m\u001b[0;32m    289\u001b[0m                     for func, args, kwargs in self.items]\n\u001b[0;32m    290\u001b[0m \u001b[1;33m\u001b[0m\u001b[0m\n",
            "\u001b[1;32mc:\\Anaconda3\\lib\\site-packages\\joblib\\parallel.py\u001b[0m in \u001b[0;36m<listcomp>\u001b[1;34m(.0)\u001b[0m\n\u001b[0;32m    286\u001b[0m         \u001b[1;31m# change the default number of processes to -1\u001b[0m\u001b[1;33m\u001b[0m\u001b[1;33m\u001b[0m\u001b[1;33m\u001b[0m\u001b[0m\n\u001b[0;32m    287\u001b[0m         \u001b[1;32mwith\u001b[0m \u001b[0mparallel_backend\u001b[0m\u001b[1;33m(\u001b[0m\u001b[0mself\u001b[0m\u001b[1;33m.\u001b[0m\u001b[0m_backend\u001b[0m\u001b[1;33m,\u001b[0m \u001b[0mn_jobs\u001b[0m\u001b[1;33m=\u001b[0m\u001b[0mself\u001b[0m\u001b[1;33m.\u001b[0m\u001b[0m_n_jobs\u001b[0m\u001b[1;33m)\u001b[0m\u001b[1;33m:\u001b[0m\u001b[1;33m\u001b[0m\u001b[1;33m\u001b[0m\u001b[0m\n\u001b[1;32m--> 288\u001b[1;33m             return [func(*args, **kwargs)\n\u001b[0m\u001b[0;32m    289\u001b[0m                     for func, args, kwargs in self.items]\n\u001b[0;32m    290\u001b[0m \u001b[1;33m\u001b[0m\u001b[0m\n",
            "\u001b[1;32mc:\\Anaconda3\\lib\\site-packages\\sklearn\\utils\\fixes.py\u001b[0m in \u001b[0;36m__call__\u001b[1;34m(self, *args, **kwargs)\u001b[0m\n\u001b[0;32m    115\u001b[0m     \u001b[1;32mdef\u001b[0m \u001b[0m__call__\u001b[0m\u001b[1;33m(\u001b[0m\u001b[0mself\u001b[0m\u001b[1;33m,\u001b[0m \u001b[1;33m*\u001b[0m\u001b[0margs\u001b[0m\u001b[1;33m,\u001b[0m \u001b[1;33m**\u001b[0m\u001b[0mkwargs\u001b[0m\u001b[1;33m)\u001b[0m\u001b[1;33m:\u001b[0m\u001b[1;33m\u001b[0m\u001b[1;33m\u001b[0m\u001b[0m\n\u001b[0;32m    116\u001b[0m         \u001b[1;32mwith\u001b[0m \u001b[0mconfig_context\u001b[0m\u001b[1;33m(\u001b[0m\u001b[1;33m**\u001b[0m\u001b[0mself\u001b[0m\u001b[1;33m.\u001b[0m\u001b[0mconfig\u001b[0m\u001b[1;33m)\u001b[0m\u001b[1;33m:\u001b[0m\u001b[1;33m\u001b[0m\u001b[1;33m\u001b[0m\u001b[0m\n\u001b[1;32m--> 117\u001b[1;33m             \u001b[1;32mreturn\u001b[0m \u001b[0mself\u001b[0m\u001b[1;33m.\u001b[0m\u001b[0mfunction\u001b[0m\u001b[1;33m(\u001b[0m\u001b[1;33m*\u001b[0m\u001b[0margs\u001b[0m\u001b[1;33m,\u001b[0m \u001b[1;33m**\u001b[0m\u001b[0mkwargs\u001b[0m\u001b[1;33m)\u001b[0m\u001b[1;33m\u001b[0m\u001b[1;33m\u001b[0m\u001b[0m\n\u001b[0m\u001b[0;32m    118\u001b[0m \u001b[1;33m\u001b[0m\u001b[0m\n\u001b[0;32m    119\u001b[0m \u001b[1;33m\u001b[0m\u001b[0m\n",
            "\u001b[1;32mc:\\Anaconda3\\lib\\site-packages\\sklearn\\model_selection\\_validation.py\u001b[0m in \u001b[0;36m_fit_and_score\u001b[1;34m(estimator, X, y, scorer, train, test, verbose, parameters, fit_params, return_train_score, return_parameters, return_n_test_samples, return_times, return_estimator, split_progress, candidate_progress, error_score)\u001b[0m\n\u001b[0;32m    684\u001b[0m             \u001b[0mestimator\u001b[0m\u001b[1;33m.\u001b[0m\u001b[0mfit\u001b[0m\u001b[1;33m(\u001b[0m\u001b[0mX_train\u001b[0m\u001b[1;33m,\u001b[0m \u001b[1;33m**\u001b[0m\u001b[0mfit_params\u001b[0m\u001b[1;33m)\u001b[0m\u001b[1;33m\u001b[0m\u001b[1;33m\u001b[0m\u001b[0m\n\u001b[0;32m    685\u001b[0m         \u001b[1;32melse\u001b[0m\u001b[1;33m:\u001b[0m\u001b[1;33m\u001b[0m\u001b[1;33m\u001b[0m\u001b[0m\n\u001b[1;32m--> 686\u001b[1;33m             \u001b[0mestimator\u001b[0m\u001b[1;33m.\u001b[0m\u001b[0mfit\u001b[0m\u001b[1;33m(\u001b[0m\u001b[0mX_train\u001b[0m\u001b[1;33m,\u001b[0m \u001b[0my_train\u001b[0m\u001b[1;33m,\u001b[0m \u001b[1;33m**\u001b[0m\u001b[0mfit_params\u001b[0m\u001b[1;33m)\u001b[0m\u001b[1;33m\u001b[0m\u001b[1;33m\u001b[0m\u001b[0m\n\u001b[0m\u001b[0;32m    687\u001b[0m \u001b[1;33m\u001b[0m\u001b[0m\n\u001b[0;32m    688\u001b[0m     \u001b[1;32mexcept\u001b[0m \u001b[0mException\u001b[0m\u001b[1;33m:\u001b[0m\u001b[1;33m\u001b[0m\u001b[1;33m\u001b[0m\u001b[0m\n",
            "\u001b[1;32mc:\\Anaconda3\\lib\\site-packages\\sklearn\\ensemble\\_forest.py\u001b[0m in \u001b[0;36mfit\u001b[1;34m(self, X, y, sample_weight)\u001b[0m\n\u001b[0;32m    472\u001b[0m             \u001b[1;31m# parallel_backend contexts set at a higher level,\u001b[0m\u001b[1;33m\u001b[0m\u001b[1;33m\u001b[0m\u001b[1;33m\u001b[0m\u001b[0m\n\u001b[0;32m    473\u001b[0m             \u001b[1;31m# since correctness does not rely on using threads.\u001b[0m\u001b[1;33m\u001b[0m\u001b[1;33m\u001b[0m\u001b[1;33m\u001b[0m\u001b[0m\n\u001b[1;32m--> 474\u001b[1;33m             trees = Parallel(\n\u001b[0m\u001b[0;32m    475\u001b[0m                 \u001b[0mn_jobs\u001b[0m\u001b[1;33m=\u001b[0m\u001b[0mself\u001b[0m\u001b[1;33m.\u001b[0m\u001b[0mn_jobs\u001b[0m\u001b[1;33m,\u001b[0m\u001b[1;33m\u001b[0m\u001b[1;33m\u001b[0m\u001b[0m\n\u001b[0;32m    476\u001b[0m                 \u001b[0mverbose\u001b[0m\u001b[1;33m=\u001b[0m\u001b[0mself\u001b[0m\u001b[1;33m.\u001b[0m\u001b[0mverbose\u001b[0m\u001b[1;33m,\u001b[0m\u001b[1;33m\u001b[0m\u001b[1;33m\u001b[0m\u001b[0m\n",
            "\u001b[1;32mc:\\Anaconda3\\lib\\site-packages\\joblib\\parallel.py\u001b[0m in \u001b[0;36m__call__\u001b[1;34m(self, iterable)\u001b[0m\n\u001b[0;32m   1086\u001b[0m                 \u001b[0mself\u001b[0m\u001b[1;33m.\u001b[0m\u001b[0m_iterating\u001b[0m \u001b[1;33m=\u001b[0m \u001b[0mself\u001b[0m\u001b[1;33m.\u001b[0m\u001b[0m_original_iterator\u001b[0m \u001b[1;32mis\u001b[0m \u001b[1;32mnot\u001b[0m \u001b[1;32mNone\u001b[0m\u001b[1;33m\u001b[0m\u001b[1;33m\u001b[0m\u001b[0m\n\u001b[0;32m   1087\u001b[0m \u001b[1;33m\u001b[0m\u001b[0m\n\u001b[1;32m-> 1088\u001b[1;33m             \u001b[1;32mwhile\u001b[0m \u001b[0mself\u001b[0m\u001b[1;33m.\u001b[0m\u001b[0mdispatch_one_batch\u001b[0m\u001b[1;33m(\u001b[0m\u001b[0miterator\u001b[0m\u001b[1;33m)\u001b[0m\u001b[1;33m:\u001b[0m\u001b[1;33m\u001b[0m\u001b[1;33m\u001b[0m\u001b[0m\n\u001b[0m\u001b[0;32m   1089\u001b[0m                 \u001b[1;32mpass\u001b[0m\u001b[1;33m\u001b[0m\u001b[1;33m\u001b[0m\u001b[0m\n\u001b[0;32m   1090\u001b[0m \u001b[1;33m\u001b[0m\u001b[0m\n",
            "\u001b[1;32mc:\\Anaconda3\\lib\\site-packages\\joblib\\parallel.py\u001b[0m in \u001b[0;36mdispatch_one_batch\u001b[1;34m(self, iterator)\u001b[0m\n\u001b[0;32m    899\u001b[0m                 \u001b[1;32mreturn\u001b[0m \u001b[1;32mFalse\u001b[0m\u001b[1;33m\u001b[0m\u001b[1;33m\u001b[0m\u001b[0m\n\u001b[0;32m    900\u001b[0m             \u001b[1;32melse\u001b[0m\u001b[1;33m:\u001b[0m\u001b[1;33m\u001b[0m\u001b[1;33m\u001b[0m\u001b[0m\n\u001b[1;32m--> 901\u001b[1;33m                 \u001b[0mself\u001b[0m\u001b[1;33m.\u001b[0m\u001b[0m_dispatch\u001b[0m\u001b[1;33m(\u001b[0m\u001b[0mtasks\u001b[0m\u001b[1;33m)\u001b[0m\u001b[1;33m\u001b[0m\u001b[1;33m\u001b[0m\u001b[0m\n\u001b[0m\u001b[0;32m    902\u001b[0m                 \u001b[1;32mreturn\u001b[0m \u001b[1;32mTrue\u001b[0m\u001b[1;33m\u001b[0m\u001b[1;33m\u001b[0m\u001b[0m\n\u001b[0;32m    903\u001b[0m \u001b[1;33m\u001b[0m\u001b[0m\n",
            "\u001b[1;32mc:\\Anaconda3\\lib\\site-packages\\joblib\\parallel.py\u001b[0m in \u001b[0;36m_dispatch\u001b[1;34m(self, batch)\u001b[0m\n\u001b[0;32m    817\u001b[0m         \u001b[1;32mwith\u001b[0m \u001b[0mself\u001b[0m\u001b[1;33m.\u001b[0m\u001b[0m_lock\u001b[0m\u001b[1;33m:\u001b[0m\u001b[1;33m\u001b[0m\u001b[1;33m\u001b[0m\u001b[0m\n\u001b[0;32m    818\u001b[0m             \u001b[0mjob_idx\u001b[0m \u001b[1;33m=\u001b[0m \u001b[0mlen\u001b[0m\u001b[1;33m(\u001b[0m\u001b[0mself\u001b[0m\u001b[1;33m.\u001b[0m\u001b[0m_jobs\u001b[0m\u001b[1;33m)\u001b[0m\u001b[1;33m\u001b[0m\u001b[1;33m\u001b[0m\u001b[0m\n\u001b[1;32m--> 819\u001b[1;33m             \u001b[0mjob\u001b[0m \u001b[1;33m=\u001b[0m \u001b[0mself\u001b[0m\u001b[1;33m.\u001b[0m\u001b[0m_backend\u001b[0m\u001b[1;33m.\u001b[0m\u001b[0mapply_async\u001b[0m\u001b[1;33m(\u001b[0m\u001b[0mbatch\u001b[0m\u001b[1;33m,\u001b[0m \u001b[0mcallback\u001b[0m\u001b[1;33m=\u001b[0m\u001b[0mcb\u001b[0m\u001b[1;33m)\u001b[0m\u001b[1;33m\u001b[0m\u001b[1;33m\u001b[0m\u001b[0m\n\u001b[0m\u001b[0;32m    820\u001b[0m             \u001b[1;31m# A job can complete so quickly than its callback is\u001b[0m\u001b[1;33m\u001b[0m\u001b[1;33m\u001b[0m\u001b[1;33m\u001b[0m\u001b[0m\n\u001b[0;32m    821\u001b[0m             \u001b[1;31m# called before we get here, causing self._jobs to\u001b[0m\u001b[1;33m\u001b[0m\u001b[1;33m\u001b[0m\u001b[1;33m\u001b[0m\u001b[0m\n",
            "\u001b[1;32mc:\\Anaconda3\\lib\\site-packages\\joblib\\_parallel_backends.py\u001b[0m in \u001b[0;36mapply_async\u001b[1;34m(self, func, callback)\u001b[0m\n\u001b[0;32m    206\u001b[0m     \u001b[1;32mdef\u001b[0m \u001b[0mapply_async\u001b[0m\u001b[1;33m(\u001b[0m\u001b[0mself\u001b[0m\u001b[1;33m,\u001b[0m \u001b[0mfunc\u001b[0m\u001b[1;33m,\u001b[0m \u001b[0mcallback\u001b[0m\u001b[1;33m=\u001b[0m\u001b[1;32mNone\u001b[0m\u001b[1;33m)\u001b[0m\u001b[1;33m:\u001b[0m\u001b[1;33m\u001b[0m\u001b[1;33m\u001b[0m\u001b[0m\n\u001b[0;32m    207\u001b[0m         \u001b[1;34m\"\"\"Schedule a func to be run\"\"\"\u001b[0m\u001b[1;33m\u001b[0m\u001b[1;33m\u001b[0m\u001b[0m\n\u001b[1;32m--> 208\u001b[1;33m         \u001b[0mresult\u001b[0m \u001b[1;33m=\u001b[0m \u001b[0mImmediateResult\u001b[0m\u001b[1;33m(\u001b[0m\u001b[0mfunc\u001b[0m\u001b[1;33m)\u001b[0m\u001b[1;33m\u001b[0m\u001b[1;33m\u001b[0m\u001b[0m\n\u001b[0m\u001b[0;32m    209\u001b[0m         \u001b[1;32mif\u001b[0m \u001b[0mcallback\u001b[0m\u001b[1;33m:\u001b[0m\u001b[1;33m\u001b[0m\u001b[1;33m\u001b[0m\u001b[0m\n\u001b[0;32m    210\u001b[0m             \u001b[0mcallback\u001b[0m\u001b[1;33m(\u001b[0m\u001b[0mresult\u001b[0m\u001b[1;33m)\u001b[0m\u001b[1;33m\u001b[0m\u001b[1;33m\u001b[0m\u001b[0m\n",
            "\u001b[1;32mc:\\Anaconda3\\lib\\site-packages\\joblib\\_parallel_backends.py\u001b[0m in \u001b[0;36m__init__\u001b[1;34m(self, batch)\u001b[0m\n\u001b[0;32m    595\u001b[0m         \u001b[1;31m# Don't delay the application, to avoid keeping the input\u001b[0m\u001b[1;33m\u001b[0m\u001b[1;33m\u001b[0m\u001b[1;33m\u001b[0m\u001b[0m\n\u001b[0;32m    596\u001b[0m         \u001b[1;31m# arguments in memory\u001b[0m\u001b[1;33m\u001b[0m\u001b[1;33m\u001b[0m\u001b[1;33m\u001b[0m\u001b[0m\n\u001b[1;32m--> 597\u001b[1;33m         \u001b[0mself\u001b[0m\u001b[1;33m.\u001b[0m\u001b[0mresults\u001b[0m \u001b[1;33m=\u001b[0m \u001b[0mbatch\u001b[0m\u001b[1;33m(\u001b[0m\u001b[1;33m)\u001b[0m\u001b[1;33m\u001b[0m\u001b[1;33m\u001b[0m\u001b[0m\n\u001b[0m\u001b[0;32m    598\u001b[0m \u001b[1;33m\u001b[0m\u001b[0m\n\u001b[0;32m    599\u001b[0m     \u001b[1;32mdef\u001b[0m \u001b[0mget\u001b[0m\u001b[1;33m(\u001b[0m\u001b[0mself\u001b[0m\u001b[1;33m)\u001b[0m\u001b[1;33m:\u001b[0m\u001b[1;33m\u001b[0m\u001b[1;33m\u001b[0m\u001b[0m\n",
            "\u001b[1;32mc:\\Anaconda3\\lib\\site-packages\\joblib\\parallel.py\u001b[0m in \u001b[0;36m__call__\u001b[1;34m(self)\u001b[0m\n\u001b[0;32m    286\u001b[0m         \u001b[1;31m# change the default number of processes to -1\u001b[0m\u001b[1;33m\u001b[0m\u001b[1;33m\u001b[0m\u001b[1;33m\u001b[0m\u001b[0m\n\u001b[0;32m    287\u001b[0m         \u001b[1;32mwith\u001b[0m \u001b[0mparallel_backend\u001b[0m\u001b[1;33m(\u001b[0m\u001b[0mself\u001b[0m\u001b[1;33m.\u001b[0m\u001b[0m_backend\u001b[0m\u001b[1;33m,\u001b[0m \u001b[0mn_jobs\u001b[0m\u001b[1;33m=\u001b[0m\u001b[0mself\u001b[0m\u001b[1;33m.\u001b[0m\u001b[0m_n_jobs\u001b[0m\u001b[1;33m)\u001b[0m\u001b[1;33m:\u001b[0m\u001b[1;33m\u001b[0m\u001b[1;33m\u001b[0m\u001b[0m\n\u001b[1;32m--> 288\u001b[1;33m             return [func(*args, **kwargs)\n\u001b[0m\u001b[0;32m    289\u001b[0m                     for func, args, kwargs in self.items]\n\u001b[0;32m    290\u001b[0m \u001b[1;33m\u001b[0m\u001b[0m\n",
            "\u001b[1;32mc:\\Anaconda3\\lib\\site-packages\\joblib\\parallel.py\u001b[0m in \u001b[0;36m<listcomp>\u001b[1;34m(.0)\u001b[0m\n\u001b[0;32m    286\u001b[0m         \u001b[1;31m# change the default number of processes to -1\u001b[0m\u001b[1;33m\u001b[0m\u001b[1;33m\u001b[0m\u001b[1;33m\u001b[0m\u001b[0m\n\u001b[0;32m    287\u001b[0m         \u001b[1;32mwith\u001b[0m \u001b[0mparallel_backend\u001b[0m\u001b[1;33m(\u001b[0m\u001b[0mself\u001b[0m\u001b[1;33m.\u001b[0m\u001b[0m_backend\u001b[0m\u001b[1;33m,\u001b[0m \u001b[0mn_jobs\u001b[0m\u001b[1;33m=\u001b[0m\u001b[0mself\u001b[0m\u001b[1;33m.\u001b[0m\u001b[0m_n_jobs\u001b[0m\u001b[1;33m)\u001b[0m\u001b[1;33m:\u001b[0m\u001b[1;33m\u001b[0m\u001b[1;33m\u001b[0m\u001b[0m\n\u001b[1;32m--> 288\u001b[1;33m             return [func(*args, **kwargs)\n\u001b[0m\u001b[0;32m    289\u001b[0m                     for func, args, kwargs in self.items]\n\u001b[0;32m    290\u001b[0m \u001b[1;33m\u001b[0m\u001b[0m\n",
            "\u001b[1;32mc:\\Anaconda3\\lib\\site-packages\\sklearn\\utils\\fixes.py\u001b[0m in \u001b[0;36m__call__\u001b[1;34m(self, *args, **kwargs)\u001b[0m\n\u001b[0;32m    115\u001b[0m     \u001b[1;32mdef\u001b[0m \u001b[0m__call__\u001b[0m\u001b[1;33m(\u001b[0m\u001b[0mself\u001b[0m\u001b[1;33m,\u001b[0m \u001b[1;33m*\u001b[0m\u001b[0margs\u001b[0m\u001b[1;33m,\u001b[0m \u001b[1;33m**\u001b[0m\u001b[0mkwargs\u001b[0m\u001b[1;33m)\u001b[0m\u001b[1;33m:\u001b[0m\u001b[1;33m\u001b[0m\u001b[1;33m\u001b[0m\u001b[0m\n\u001b[0;32m    116\u001b[0m         \u001b[1;32mwith\u001b[0m \u001b[0mconfig_context\u001b[0m\u001b[1;33m(\u001b[0m\u001b[1;33m**\u001b[0m\u001b[0mself\u001b[0m\u001b[1;33m.\u001b[0m\u001b[0mconfig\u001b[0m\u001b[1;33m)\u001b[0m\u001b[1;33m:\u001b[0m\u001b[1;33m\u001b[0m\u001b[1;33m\u001b[0m\u001b[0m\n\u001b[1;32m--> 117\u001b[1;33m             \u001b[1;32mreturn\u001b[0m \u001b[0mself\u001b[0m\u001b[1;33m.\u001b[0m\u001b[0mfunction\u001b[0m\u001b[1;33m(\u001b[0m\u001b[1;33m*\u001b[0m\u001b[0margs\u001b[0m\u001b[1;33m,\u001b[0m \u001b[1;33m**\u001b[0m\u001b[0mkwargs\u001b[0m\u001b[1;33m)\u001b[0m\u001b[1;33m\u001b[0m\u001b[1;33m\u001b[0m\u001b[0m\n\u001b[0m\u001b[0;32m    118\u001b[0m \u001b[1;33m\u001b[0m\u001b[0m\n\u001b[0;32m    119\u001b[0m \u001b[1;33m\u001b[0m\u001b[0m\n",
            "\u001b[1;32mc:\\Anaconda3\\lib\\site-packages\\sklearn\\ensemble\\_forest.py\u001b[0m in \u001b[0;36m_parallel_build_trees\u001b[1;34m(tree, bootstrap, X, y, sample_weight, tree_idx, n_trees, verbose, class_weight, n_samples_bootstrap)\u001b[0m\n\u001b[0;32m    183\u001b[0m             \u001b[0mcurr_sample_weight\u001b[0m \u001b[1;33m*=\u001b[0m \u001b[0mcompute_sample_weight\u001b[0m\u001b[1;33m(\u001b[0m\u001b[1;34m\"balanced\"\u001b[0m\u001b[1;33m,\u001b[0m \u001b[0my\u001b[0m\u001b[1;33m,\u001b[0m \u001b[0mindices\u001b[0m\u001b[1;33m=\u001b[0m\u001b[0mindices\u001b[0m\u001b[1;33m)\u001b[0m\u001b[1;33m\u001b[0m\u001b[1;33m\u001b[0m\u001b[0m\n\u001b[0;32m    184\u001b[0m \u001b[1;33m\u001b[0m\u001b[0m\n\u001b[1;32m--> 185\u001b[1;33m         \u001b[0mtree\u001b[0m\u001b[1;33m.\u001b[0m\u001b[0mfit\u001b[0m\u001b[1;33m(\u001b[0m\u001b[0mX\u001b[0m\u001b[1;33m,\u001b[0m \u001b[0my\u001b[0m\u001b[1;33m,\u001b[0m \u001b[0msample_weight\u001b[0m\u001b[1;33m=\u001b[0m\u001b[0mcurr_sample_weight\u001b[0m\u001b[1;33m,\u001b[0m \u001b[0mcheck_input\u001b[0m\u001b[1;33m=\u001b[0m\u001b[1;32mFalse\u001b[0m\u001b[1;33m)\u001b[0m\u001b[1;33m\u001b[0m\u001b[1;33m\u001b[0m\u001b[0m\n\u001b[0m\u001b[0;32m    186\u001b[0m     \u001b[1;32melse\u001b[0m\u001b[1;33m:\u001b[0m\u001b[1;33m\u001b[0m\u001b[1;33m\u001b[0m\u001b[0m\n\u001b[0;32m    187\u001b[0m         \u001b[0mtree\u001b[0m\u001b[1;33m.\u001b[0m\u001b[0mfit\u001b[0m\u001b[1;33m(\u001b[0m\u001b[0mX\u001b[0m\u001b[1;33m,\u001b[0m \u001b[0my\u001b[0m\u001b[1;33m,\u001b[0m \u001b[0msample_weight\u001b[0m\u001b[1;33m=\u001b[0m\u001b[0msample_weight\u001b[0m\u001b[1;33m,\u001b[0m \u001b[0mcheck_input\u001b[0m\u001b[1;33m=\u001b[0m\u001b[1;32mFalse\u001b[0m\u001b[1;33m)\u001b[0m\u001b[1;33m\u001b[0m\u001b[1;33m\u001b[0m\u001b[0m\n",
            "\u001b[1;32mc:\\Anaconda3\\lib\\site-packages\\sklearn\\tree\\_classes.py\u001b[0m in \u001b[0;36mfit\u001b[1;34m(self, X, y, sample_weight, check_input)\u001b[0m\n\u001b[0;32m    887\u001b[0m         \"\"\"\n\u001b[0;32m    888\u001b[0m \u001b[1;33m\u001b[0m\u001b[0m\n\u001b[1;32m--> 889\u001b[1;33m         super().fit(\n\u001b[0m\u001b[0;32m    890\u001b[0m             \u001b[0mX\u001b[0m\u001b[1;33m,\u001b[0m\u001b[1;33m\u001b[0m\u001b[1;33m\u001b[0m\u001b[0m\n\u001b[0;32m    891\u001b[0m             \u001b[0my\u001b[0m\u001b[1;33m,\u001b[0m\u001b[1;33m\u001b[0m\u001b[1;33m\u001b[0m\u001b[0m\n",
            "\u001b[1;32mc:\\Anaconda3\\lib\\site-packages\\sklearn\\tree\\_classes.py\u001b[0m in \u001b[0;36mfit\u001b[1;34m(self, X, y, sample_weight, check_input)\u001b[0m\n\u001b[0;32m    377\u001b[0m             )\n\u001b[0;32m    378\u001b[0m \u001b[1;33m\u001b[0m\u001b[0m\n\u001b[1;32m--> 379\u001b[1;33m         \u001b[0mbuilder\u001b[0m\u001b[1;33m.\u001b[0m\u001b[0mbuild\u001b[0m\u001b[1;33m(\u001b[0m\u001b[0mself\u001b[0m\u001b[1;33m.\u001b[0m\u001b[0mtree_\u001b[0m\u001b[1;33m,\u001b[0m \u001b[0mX\u001b[0m\u001b[1;33m,\u001b[0m \u001b[0my\u001b[0m\u001b[1;33m,\u001b[0m \u001b[0msample_weight\u001b[0m\u001b[1;33m)\u001b[0m\u001b[1;33m\u001b[0m\u001b[1;33m\u001b[0m\u001b[0m\n\u001b[0m\u001b[0;32m    380\u001b[0m \u001b[1;33m\u001b[0m\u001b[0m\n\u001b[0;32m    381\u001b[0m         \u001b[1;32mif\u001b[0m \u001b[0mself\u001b[0m\u001b[1;33m.\u001b[0m\u001b[0mn_outputs_\u001b[0m \u001b[1;33m==\u001b[0m \u001b[1;36m1\u001b[0m \u001b[1;32mand\u001b[0m \u001b[0mis_classifier\u001b[0m\u001b[1;33m(\u001b[0m\u001b[0mself\u001b[0m\u001b[1;33m)\u001b[0m\u001b[1;33m:\u001b[0m\u001b[1;33m\u001b[0m\u001b[1;33m\u001b[0m\u001b[0m\n",
            "\u001b[1;31mKeyboardInterrupt\u001b[0m: "
          ]
        }
      ],
      "source": [
        "# Define the classifiers\n",
        "classifiers = [\n",
        "    LogisticRegression(),\n",
        "    DecisionTreeClassifier(),\n",
        "    GaussianNB(),\n",
        "    # SVC(),\n",
        "    RandomForestClassifier(),\n",
        "    xgb.XGBClassifier(),\n",
        "    LGBMClassifier()\n",
        "]\n",
        "# Loop through each classifier and compute the accuracy\n",
        "for classifier in classifiers:\n",
        "    scores = cross_val_score(classifier,X_preprocess, y_le_encoded, cv=5)\n",
        "    avg_accuracy = scores.mean()\n",
        "    print(f\"Classifier: {classifier.__class__.__name__}\")\n",
        "    print(f\"Accuracy: {avg_accuracy}\\n\")"
      ]
    },
    {
      "cell_type": "code",
      "execution_count": 132,
      "metadata": {},
      "outputs": [],
      "source": [
        "# only bets features\n",
        "# Classifier: LogisticRegression\n",
        "# Accuracy: 0.5200735666215441\n",
        "\n",
        "# added 'country_id' ,'league_id' ,'season' ,'stage' with bets\n",
        "# Classifier: LogisticRegression\n",
        "# Accuracy: 0.4584877313636536\n",
        "\n",
        "# with bets\n",
        "# Classifier: LogisticRegression\n",
        "# Accuracy: 0.5321219921150571\n",
        "\n",
        "# Classifier: DecisionTreeClassifier\n",
        "# Accuracy: 0.3985523698173097\n",
        "\n",
        "# Classifier: GaussianNB\n",
        "# Accuracy: 0.3997069041781603\n",
        "\n",
        "# Classifier: SVC\n",
        "# Accuracy: 0.5260017070953372\n",
        "\n",
        "# Classifier: RandomForestClassifier\n",
        "# Accuracy: 0.49928845836102553\n",
        "\n",
        "# Classifier: XGBClassifier\n",
        "# Accuracy: 0.48962709154372847\n",
        "\n",
        "# Classifier: LGBMClassifier\n",
        "# Accuracy: 0.5067175535189948"
      ]
    },
    {
      "cell_type": "code",
      "execution_count": 53,
      "metadata": {},
      "outputs": [],
      "source": [
        "def calculate_performance_metrics(y_true, y_pred):\n",
        "    # Calculate confusion matrix\n",
        "    cm = confusion_matrix(y_true, y_pred)\n",
        "    \n",
        "    # Calculate performance metrics\n",
        "    accuracy = cm.diagonal().sum() / cm.sum()\n",
        "    precision, recall, f1_score, _ = precision_recall_fscore_support(y_true, y_pred, average='weighted')\n",
        "    \n",
        "    # Print performance metrics\n",
        "    print(\"Accuracy:\", accuracy)\n",
        "    print(\"Precision:\", precision)\n",
        "    print(\"Recall:\", recall)\n",
        "    print(\"F1 Score:\", f1_score)"
      ]
    },
    {
      "cell_type": "code",
      "execution_count": 54,
      "metadata": {},
      "outputs": [],
      "source": [
        "def print_cm(y_test,y_pred):\n",
        "    # Plot confusion matrix\n",
        "    cm = confusion_matrix(y_test, y_pred)\n",
        "    sns.heatmap(cm, annot=True, fmt='d', cmap='Blues')\n",
        "    plt.xlabel('Predicted')\n",
        "    plt.ylabel('Actual')\n",
        "    plt.title('Confusion Matrix')\n",
        "    plt.show()"
      ]
    },
    {
      "cell_type": "code",
      "execution_count": 55,
      "metadata": {},
      "outputs": [],
      "source": [
        "def feature_importance(model_name):\n",
        "    # plotting the important features from the input for better understanding\n",
        "    importances= model_name.feature_importances_\n",
        "    forest_importances = pd.Series(importances, index=(match_df.drop(columns=['target'])).columns)\n",
        "\n",
        "    fig, ax = plt.subplots()\n",
        "    forest_importances.plot.bar(forest_importances)\n",
        "    ax.set_title(\"Feature importances\")\n",
        "    ax.set_ylabel(\"FI\")\n",
        "    fig.tight_layout()"
      ]
    },
    {
      "attachments": {},
      "cell_type": "markdown",
      "metadata": {},
      "source": [
        "### Train Test split for the Models"
      ]
    },
    {
      "cell_type": "code",
      "execution_count": 29,
      "metadata": {},
      "outputs": [],
      "source": [
        "# splitting the data into train and test\n",
        "from sklearn.model_selection import train_test_split\n",
        "X_train, X_test, y_train, y_test = train_test_split(X_preprocess,y_le_encoded, stratify=y_le_encoded, test_size=0.3, random_state=42)"
      ]
    },
    {
      "attachments": {},
      "cell_type": "markdown",
      "metadata": {},
      "source": [
        "## Checking LGBM"
      ]
    },
    {
      "cell_type": "code",
      "execution_count": 19,
      "metadata": {},
      "outputs": [
        {
          "name": "stdout",
          "output_type": "stream",
          "text": [
            "[LightGBM] [Warning] Auto-choosing col-wise multi-threading, the overhead of testing was 0.001750 seconds.\n",
            "You can set `force_col_wise=true` to remove the overhead.\n",
            "[LightGBM] [Info] Total Bins 2495\n",
            "[LightGBM] [Info] Number of data points in the train set: 18185, number of used features: 21\n",
            "[LightGBM] [Info] Start training from score -1.246951\n",
            "[LightGBM] [Info] Start training from score -1.370852\n",
            "[LightGBM] [Info] Start training from score -0.779294\n"
          ]
        }
      ],
      "source": [
        "# defining the LGBM model\n",
        "lgbm_classifier = LGBMClassifier()\n",
        "lgbm_classifier.fit(X_train, y_train)\n",
        "\n",
        "# predicting using LGBM model\n",
        "y_pred_lgbm = lgbm_classifier.predict(X_test)"
      ]
    },
    {
      "cell_type": "code",
      "execution_count": 20,
      "metadata": {},
      "outputs": [
        {
          "data": {
            "text/plain": [
              "0.5216833461637157"
            ]
          },
          "execution_count": 20,
          "metadata": {},
          "output_type": "execute_result"
        }
      ],
      "source": [
        "# checking for the accuracy\n",
        "lgbm_classifier.score(X_test,y_test)"
      ]
    },
    {
      "cell_type": "code",
      "execution_count": 21,
      "metadata": {},
      "outputs": [
        {
          "data": {
            "image/png": "[encoded data removed]",
            "text/plain": [
              "<Figure size 432x288 with 2 Axes>"
            ]
          },
          "metadata": {
            "needs_background": "light"
          },
          "output_type": "display_data"
        }
      ],
      "source": [
        "print_cm(y_test,y_pred_lgbm)"
      ]
    },
    {
      "cell_type": "code",
      "execution_count": 22,
      "metadata": {},
      "outputs": [
        {
          "name": "stdout",
          "output_type": "stream",
          "text": [
            "Accuracy: 0.5216833461637157\n",
            "Precision: 0.4792317378680735\n",
            "Recall: 0.5216833461637157\n",
            "F1 Score: 0.475961592024128\n"
          ]
        }
      ],
      "source": [
        "calculate_performance_metrics(y_test,y_pred_lgbm)"
      ]
    },
    {
      "cell_type": "code",
      "execution_count": 23,
      "metadata": {},
      "outputs": [
        {
          "data": {
            "image/png": "[encoded data removed]",
            "text/plain": [
              "<Figure size 432x288 with 1 Axes>"
            ]
          },
          "metadata": {
            "needs_background": "light"
          },
          "output_type": "display_data"
        }
      ],
      "source": [
        "feature_importance(lgbm_classifier)"
      ]
    },
    {
      "attachments": {},
      "cell_type": "markdown",
      "metadata": {},
      "source": [
        "## Checking Random Forest"
      ]
    },
    {
      "cell_type": "code",
      "execution_count": 24,
      "metadata": {},
      "outputs": [],
      "source": [
        "# checking using randomforest\n",
        "rf = RandomForestClassifier()\n",
        "rf.fit(X_train,y_train)\n",
        "\n",
        "# predicting using LGBM model\n",
        "y_pred_rf = rf.predict(X_test)"
      ]
    },
    {
      "cell_type": "code",
      "execution_count": 25,
      "metadata": {},
      "outputs": [
        {
          "data": {
            "text/plain": [
              "0.4910187323582243"
            ]
          },
          "execution_count": 25,
          "metadata": {},
          "output_type": "execute_result"
        }
      ],
      "source": [
        "# checking for the accuracy\n",
        "rf.score(X_test,y_test)"
      ]
    },
    {
      "cell_type": "code",
      "execution_count": 26,
      "metadata": {},
      "outputs": [
        {
          "data": {
            "image/png": "[encoded data removed]",
            "text/plain": [
              "<Figure size 432x288 with 2 Axes>"
            ]
          },
          "metadata": {
            "needs_background": "light"
          },
          "output_type": "display_data"
        }
      ],
      "source": [
        "print_cm(y_test,y_pred_rf)"
      ]
    },
    {
      "cell_type": "code",
      "execution_count": 27,
      "metadata": {},
      "outputs": [
        {
          "name": "stdout",
          "output_type": "stream",
          "text": [
            "Accuracy: 0.4910187323582243\n",
            "Precision: 0.4596676724437417\n",
            "Recall: 0.4910187323582243\n",
            "F1 Score: 0.464462412536089\n"
          ]
        }
      ],
      "source": [
        "calculate_performance_metrics(y_test,y_pred_rf)"
      ]
    },
    {
      "cell_type": "code",
      "execution_count": 28,
      "metadata": {},
      "outputs": [
        {
          "data": {
            "image/png": "[encoded data removed]",
            "text/plain": [
              "<Figure size 432x288 with 1 Axes>"
            ]
          },
          "metadata": {
            "needs_background": "light"
          },
          "output_type": "display_data"
        }
      ],
      "source": [
        "feature_importance(rf)"
      ]
    },
    {
      "attachments": {},
      "cell_type": "markdown",
      "metadata": {},
      "source": [
        "## Checking Logistic Regression"
      ]
    },
    {
      "cell_type": "code",
      "execution_count": 32,
      "metadata": {},
      "outputs": [],
      "source": [
        "# checking using randomforest\n",
        "lr = LogisticRegression()\n",
        "lr.fit(X_train,y_train)\n",
        "\n",
        "# predicting using LGBM model\n",
        "y_pred_lr = lr.predict(X_test)"
      ]
    },
    {
      "cell_type": "code",
      "execution_count": 33,
      "metadata": {},
      "outputs": [
        {
          "data": {
            "text/plain": [
              "0.5309212214523993"
            ]
          },
          "execution_count": 33,
          "metadata": {},
          "output_type": "execute_result"
        }
      ],
      "source": [
        "# checking for the accuracy\n",
        "lr.score(X_test,y_test)"
      ]
    },
    {
      "cell_type": "code",
      "execution_count": 34,
      "metadata": {},
      "outputs": [
        {
          "data": {
            "image/png": "[encoded data removed]",
            "text/plain": [
              "<Figure size 432x288 with 2 Axes>"
            ]
          },
          "metadata": {
            "needs_background": "light"
          },
          "output_type": "display_data"
        }
      ],
      "source": [
        "print_cm(y_test,y_pred_lr)"
      ]
    },
    {
      "cell_type": "code",
      "execution_count": 35,
      "metadata": {},
      "outputs": [
        {
          "name": "stdout",
          "output_type": "stream",
          "text": [
            "Accuracy: 0.5309212214523993\n",
            "Precision: 0.4559893228041587\n",
            "Recall: 0.5309212214523993\n",
            "F1 Score: 0.4477036012562283\n"
          ]
        }
      ],
      "source": [
        "calculate_performance_metrics(y_test,y_pred_lr)"
      ]
    },
    {
      "attachments": {},
      "cell_type": "markdown",
      "metadata": {},
      "source": [
        "## Checking Decision Classifier"
      ]
    },
    {
      "cell_type": "code",
      "execution_count": 36,
      "metadata": {},
      "outputs": [],
      "source": [
        "# checking using randomforest\n",
        "dt = DecisionTreeClassifier()\n",
        "dt.fit(X_train,y_train)\n",
        "\n",
        "# predicting using LGBM model\n",
        "y_pred_dt = dt.predict(X_test)"
      ]
    },
    {
      "cell_type": "code",
      "execution_count": 37,
      "metadata": {},
      "outputs": [
        {
          "data": {
            "text/plain": [
              "0.41878367975365666"
            ]
          },
          "execution_count": 37,
          "metadata": {},
          "output_type": "execute_result"
        }
      ],
      "source": [
        "# checking for the accuracy\n",
        "dt.score(X_test,y_test)"
      ]
    },
    {
      "cell_type": "code",
      "execution_count": 38,
      "metadata": {},
      "outputs": [
        {
          "data": {
            "image/png": "[encoded data removed]",
            "text/plain": [
              "<Figure size 432x288 with 2 Axes>"
            ]
          },
          "metadata": {
            "needs_background": "light"
          },
          "output_type": "display_data"
        }
      ],
      "source": [
        "print_cm(y_test,y_pred_dt)"
      ]
    },
    {
      "cell_type": "code",
      "execution_count": 39,
      "metadata": {},
      "outputs": [
        {
          "name": "stdout",
          "output_type": "stream",
          "text": [
            "Accuracy: 0.41878367975365666\n",
            "Precision: 0.42198735346925975\n",
            "Recall: 0.41878367975365666\n",
            "F1 Score: 0.42030385692456235\n"
          ]
        }
      ],
      "source": [
        "calculate_performance_metrics(y_test,y_pred_dt)"
      ]
    },
    {
      "cell_type": "code",
      "execution_count": 40,
      "metadata": {},
      "outputs": [
        {
          "data": {
            "image/png": "[encoded data removed]",
            "text/plain": [
              "<Figure size 432x288 with 1 Axes>"
            ]
          },
          "metadata": {
            "needs_background": "light"
          },
          "output_type": "display_data"
        }
      ],
      "source": [
        "feature_importance(dt)"
      ]
    },
    {
      "attachments": {},
      "cell_type": "markdown",
      "metadata": {},
      "source": [
        "## Checking Naive Bays"
      ]
    },
    {
      "cell_type": "code",
      "execution_count": 41,
      "metadata": {},
      "outputs": [],
      "source": [
        "# checking using randomforest\n",
        "nb = GaussianNB()\n",
        "nb.fit(X_train,y_train)\n",
        "\n",
        "# predicting using LGBM model\n",
        "y_pred_nb = nb.predict(X_test)"
      ]
    },
    {
      "cell_type": "code",
      "execution_count": 42,
      "metadata": {},
      "outputs": [
        {
          "data": {
            "text/plain": [
              "0.5182191429304593"
            ]
          },
          "execution_count": 42,
          "metadata": {},
          "output_type": "execute_result"
        }
      ],
      "source": [
        "# checking for the accuracy\n",
        "nb.score(X_test,y_test)"
      ]
    },
    {
      "cell_type": "code",
      "execution_count": 43,
      "metadata": {},
      "outputs": [
        {
          "data": {
            "image/png": "[encoded data removed]",
            "text/plain": [
              "<Figure size 432x288 with 2 Axes>"
            ]
          },
          "metadata": {
            "needs_background": "light"
          },
          "output_type": "display_data"
        }
      ],
      "source": [
        "print_cm(y_test,y_pred_nb)"
      ]
    },
    {
      "cell_type": "code",
      "execution_count": 44,
      "metadata": {},
      "outputs": [
        {
          "name": "stdout",
          "output_type": "stream",
          "text": [
            "Accuracy: 0.5182191429304593\n",
            "Precision: 0.4511665280821707\n",
            "Recall: 0.5182191429304593\n",
            "F1 Score: 0.45106844970599114\n"
          ]
        }
      ],
      "source": [
        "calculate_performance_metrics(y_test,y_pred_nb)"
      ]
    },
    {
      "attachments": {},
      "cell_type": "markdown",
      "metadata": {},
      "source": [
        "## Checking SVC"
      ]
    },
    {
      "cell_type": "code",
      "execution_count": 45,
      "metadata": {},
      "outputs": [],
      "source": [
        "# checking using randomforest\n",
        "svc = SVC()\n",
        "svc.fit(X_train,y_train)\n",
        "\n",
        "# predicting using LGBM model\n",
        "y_pred_svc = svc.predict(X_test)"
      ]
    },
    {
      "cell_type": "code",
      "execution_count": 46,
      "metadata": {},
      "outputs": [
        {
          "data": {
            "text/plain": [
              "0.5283551449833205"
            ]
          },
          "execution_count": 46,
          "metadata": {},
          "output_type": "execute_result"
        }
      ],
      "source": [
        "# checking for the accuracy\n",
        "svc.score(X_test,y_test)"
      ]
    },
    {
      "cell_type": "code",
      "execution_count": 47,
      "metadata": {},
      "outputs": [
        {
          "data": {
            "image/png": "[encoded data removed]",
            "text/plain": [
              "<Figure size 432x288 with 2 Axes>"
            ]
          },
          "metadata": {
            "needs_background": "light"
          },
          "output_type": "display_data"
        }
      ],
      "source": [
        "print_cm(y_test,y_pred_svc)"
      ]
    },
    {
      "cell_type": "code",
      "execution_count": 48,
      "metadata": {},
      "outputs": [
        {
          "name": "stdout",
          "output_type": "stream",
          "text": [
            "Accuracy: 0.5283551449833205\n",
            "Precision: 0.39248517773253633\n",
            "Recall: 0.5283551449833205\n",
            "F1 Score: 0.4398255805368541\n"
          ]
        }
      ],
      "source": [
        "calculate_performance_metrics(y_test,y_pred_svc)"
      ]
    },
    {
      "attachments": {},
      "cell_type": "markdown",
      "metadata": {},
      "source": [
        "## Checking XGB"
      ]
    },
    {
      "cell_type": "code",
      "execution_count": 49,
      "metadata": {},
      "outputs": [],
      "source": [
        "# checking using randomforest\n",
        "xb = xgb.XGBClassifier()\n",
        "xb.fit(X_train,y_train)\n",
        "\n",
        "# predicting using LGBM model\n",
        "y_pred_xb = xb.predict(X_test)"
      ]
    },
    {
      "cell_type": "code",
      "execution_count": 50,
      "metadata": {},
      "outputs": [
        {
          "data": {
            "text/plain": [
              "0.5153964588144727"
            ]
          },
          "execution_count": 50,
          "metadata": {},
          "output_type": "execute_result"
        }
      ],
      "source": [
        "# checking for the accuracy\n",
        "xb.score(X_test,y_test)"
      ]
    },
    {
      "cell_type": "code",
      "execution_count": 51,
      "metadata": {},
      "outputs": [
        {
          "data": {
            "image/png": "[encoded data removed]",
            "text/plain": [
              "<Figure size 432x288 with 2 Axes>"
            ]
          },
          "metadata": {
            "needs_background": "light"
          },
          "output_type": "display_data"
        }
      ],
      "source": [
        "print_cm(y_test,y_pred_xb)"
      ]
    },
    {
      "cell_type": "code",
      "execution_count": 52,
      "metadata": {},
      "outputs": [
        {
          "name": "stdout",
          "output_type": "stream",
          "text": [
            "Accuracy: 0.5153964588144727\n",
            "Precision: 0.4713969628736005\n",
            "Recall: 0.5153964588144727\n",
            "F1 Score: 0.4704386072157805\n"
          ]
        }
      ],
      "source": [
        "calculate_performance_metrics(y_test,y_pred_xb)"
      ]
    },
    {
      "cell_type": "code",
      "execution_count": 53,
      "metadata": {},
      "outputs": [
        {
          "data": {
            "image/png": "[encoded data removed]",
            "text/plain": [
              "<Figure size 432x288 with 1 Axes>"
            ]
          },
          "metadata": {
            "needs_background": "light"
          },
          "output_type": "display_data"
        }
      ],
      "source": [
        "feature_importance(xb)"
      ]
    },
    {
      "attachments": {},
      "cell_type": "markdown",
      "metadata": {},
      "source": [
        "## Neural Network Model (Test)"
      ]
    },
    {
      "cell_type": "code",
      "execution_count": 30,
      "metadata": {},
      "outputs": [],
      "source": [
        "import tensorflow as tf\n",
        "from sklearn.preprocessing import OneHotEncoder"
      ]
    },
    {
      "cell_type": "code",
      "execution_count": 31,
      "metadata": {},
      "outputs": [],
      "source": [
        "# Create an instance of the OneHotEncoder\n",
        "oh = OneHotEncoder()\n",
        "\n",
        "# Fit and transform the categorical data\n",
        "oh_encoded = oh.fit_transform(y_train.reshape(-1, 1))\n",
        "\n",
        "# Convert the encoded data to a dense array\n",
        "oh_encoded = oh_encoded.toarray()\n",
        "\n",
        "# Fit and transform the categorical data\n",
        "oh_encoded_test = oh.fit_transform(y_test.reshape(-1, 1))\n",
        "\n",
        "# Convert the encoded data to a dense array\n",
        "oh_encoded_test = oh_encoded_test.toarray()"
      ]
    },
    {
      "cell_type": "code",
      "execution_count": 37,
      "metadata": {},
      "outputs": [
        {
          "data": {
            "text/plain": [
              "(18185, 21)"
            ]
          },
          "execution_count": 37,
          "metadata": {},
          "output_type": "execute_result"
        }
      ],
      "source": [
        "X_train.shape"
      ]
    },
    {
      "cell_type": "code",
      "execution_count": 38,
      "metadata": {},
      "outputs": [],
      "source": [
        "# Define the neural network architecture\n",
        "model = tf.keras.models.Sequential([\n",
        "    tf.keras.layers.Dense(518, activation='relu', input_shape=(21,)),\n",
        "    tf.keras.layers.Dropout(0.1),\n",
        "    tf.keras.layers.Dense(256, activation='relu'),\n",
        "    tf.keras.layers.Dropout(0.2),\n",
        "    tf.keras.layers.Dense(128, activation='relu'),\n",
        "    \n",
        "    tf.keras.layers.Dropout(0.2),\n",
        "    tf.keras.layers.Dense(24, activation='relu'),\n",
        "    tf.keras.layers.Dense(3, activation='softmax')\n",
        "])"
      ]
    },
    {
      "cell_type": "code",
      "execution_count": 39,
      "metadata": {},
      "outputs": [
        {
          "name": "stdout",
          "output_type": "stream",
          "text": [
            "Model: \"sequential_3\"\n",
            "_________________________________________________________________\n",
            " Layer (type)                Output Shape              Param #   \n",
            "=================================================================\n",
            " dense_16 (Dense)            (None, 518)               11396     \n",
            "                                                                 \n",
            " dropout_10 (Dropout)        (None, 518)               0         \n",
            "                                                                 \n",
            " dense_17 (Dense)            (None, 256)               132864    \n",
            "                                                                 \n",
            " dropout_11 (Dropout)        (None, 256)               0         \n",
            "                                                                 \n",
            " dense_18 (Dense)            (None, 128)               32896     \n",
            "                                                                 \n",
            " dropout_12 (Dropout)        (None, 128)               0         \n",
            "                                                                 \n",
            " dense_19 (Dense)            (None, 24)                3096      \n",
            "                                                                 \n",
            " dense_20 (Dense)            (None, 3)                 75        \n",
            "                                                                 \n",
            "=================================================================\n",
            "Total params: 180327 (704.40 KB)\n",
            "Trainable params: 180327 (704.40 KB)\n",
            "Non-trainable params: 0 (0.00 Byte)\n",
            "_________________________________________________________________\n"
          ]
        }
      ],
      "source": [
        "model.summary()"
      ]
    },
    {
      "cell_type": "code",
      "execution_count": 40,
      "metadata": {},
      "outputs": [],
      "source": [
        "# early stopping\n",
        "early_stopping = tf.keras.callbacks.EarlyStopping(patience=6,min_delta=0.001,restore_best_weights=True)"
      ]
    },
    {
      "cell_type": "code",
      "execution_count": 41,
      "metadata": {},
      "outputs": [],
      "source": [
        "# Compile the model\n",
        "model.compile(optimizer='adam',\n",
        "              loss='categorical_crossentropy',\n",
        "              metrics=['accuracy'])"
      ]
    },
    {
      "cell_type": "code",
      "execution_count": 42,
      "metadata": {},
      "outputs": [
        {
          "name": "stdout",
          "output_type": "stream",
          "text": [
            "Epoch 1/50\n",
            "758/758 [==============================] - 4s 4ms/step - loss: 0.9905 - accuracy: 0.5207 - val_loss: 0.9779 - val_accuracy: 0.5289\n",
            "Epoch 2/50\n",
            "758/758 [==============================] - 3s 4ms/step - loss: 0.9761 - accuracy: 0.5325 - val_loss: 0.9725 - val_accuracy: 0.5336\n",
            "Epoch 3/50\n",
            "758/758 [==============================] - 3s 4ms/step - loss: 0.9740 - accuracy: 0.5326 - val_loss: 0.9714 - val_accuracy: 0.5349\n",
            "Epoch 4/50\n",
            "758/758 [==============================] - 3s 4ms/step - loss: 0.9684 - accuracy: 0.5371 - val_loss: 0.9707 - val_accuracy: 0.5327\n",
            "Epoch 5/50\n",
            "758/758 [==============================] - 3s 4ms/step - loss: 0.9669 - accuracy: 0.5396 - val_loss: 0.9751 - val_accuracy: 0.5337\n",
            "Epoch 6/50\n",
            "758/758 [==============================] - 3s 4ms/step - loss: 0.9672 - accuracy: 0.5386 - val_loss: 0.9727 - val_accuracy: 0.5353\n",
            "Epoch 7/50\n",
            "758/758 [==============================] - 3s 4ms/step - loss: 0.9646 - accuracy: 0.5395 - val_loss: 0.9739 - val_accuracy: 0.5314\n",
            "Epoch 8/50\n",
            "758/758 [==============================] - 3s 4ms/step - loss: 0.9641 - accuracy: 0.5418 - val_loss: 0.9717 - val_accuracy: 0.5357\n",
            "Epoch 9/50\n",
            "758/758 [==============================] - 3s 4ms/step - loss: 0.9612 - accuracy: 0.5437 - val_loss: 0.9673 - val_accuracy: 0.5371\n",
            "Epoch 10/50\n",
            "758/758 [==============================] - 3s 4ms/step - loss: 0.9609 - accuracy: 0.5425 - val_loss: 0.9694 - val_accuracy: 0.5326\n",
            "Epoch 11/50\n",
            "758/758 [==============================] - 3s 4ms/step - loss: 0.9592 - accuracy: 0.5425 - val_loss: 0.9728 - val_accuracy: 0.5352\n",
            "Epoch 12/50\n",
            "758/758 [==============================] - 3s 4ms/step - loss: 0.9585 - accuracy: 0.5429 - val_loss: 0.9818 - val_accuracy: 0.5343\n",
            "Epoch 13/50\n",
            "758/758 [==============================] - 3s 4ms/step - loss: 0.9581 - accuracy: 0.5461 - val_loss: 0.9718 - val_accuracy: 0.5304\n",
            "Epoch 14/50\n",
            "758/758 [==============================] - 3s 4ms/step - loss: 0.9569 - accuracy: 0.5442 - val_loss: 0.9702 - val_accuracy: 0.5368\n",
            "Epoch 15/50\n",
            "758/758 [==============================] - 3s 4ms/step - loss: 0.9542 - accuracy: 0.5459 - val_loss: 0.9743 - val_accuracy: 0.5359\n"
          ]
        },
        {
          "data": {
            "text/plain": [
              "<keras.src.callbacks.History at 0x1e4a58b36a0>"
            ]
          },
          "execution_count": 42,
          "metadata": {},
          "output_type": "execute_result"
        }
      ],
      "source": [
        "# Train the model\n",
        "model.fit(X_train, oh_encoded, epochs=50, batch_size=24,validation_data=(X_test,oh_encoded_test),\n",
        "              callbacks=[early_stopping])"
      ]
    },
    {
      "cell_type": "code",
      "execution_count": 43,
      "metadata": {},
      "outputs": [
        {
          "name": "stdout",
          "output_type": "stream",
          "text": [
            "244/244 [==============================] - 0s 2ms/step - loss: 0.9673 - accuracy: 0.5371\n"
          ]
        }
      ],
      "source": [
        "# Evaluate the model\n",
        "loss, accuracy = model.evaluate(X_test, oh_encoded_test)"
      ]
    },
    {
      "cell_type": "code",
      "execution_count": 44,
      "metadata": {},
      "outputs": [
        {
          "name": "stdout",
          "output_type": "stream",
          "text": [
            "244/244 [==============================] - 0s 2ms/step\n"
          ]
        }
      ],
      "source": [
        "# Make predictions\n",
        "predictions = model.predict(X_test)\n",
        "predicted_labels = tf.argmax(predictions, axis=1)"
      ]
    },
    {
      "cell_type": "code",
      "execution_count": 47,
      "metadata": {},
      "outputs": [
        {
          "data": {
            "image/png": "[encoded data removed]",
            "text/plain": [
              "<Figure size 432x288 with 2 Axes>"
            ]
          },
          "metadata": {
            "needs_background": "light"
          },
          "output_type": "display_data"
        }
      ],
      "source": [
        "print_cm(y_test,predicted_labels)"
      ]
    },
    {
      "cell_type": "code",
      "execution_count": 57,
      "metadata": {},
      "outputs": [
        {
          "name": "stdout",
          "output_type": "stream",
          "text": [
            "Accuracy: 0.5370798049781883\n",
            "Precision: 0.5048860596432901\n",
            "Recall: 0.5370798049781883\n",
            "F1 Score: 0.4813289489181574\n"
          ]
        }
      ],
      "source": [
        "calculate_performance_metrics(y_test,predicted_labels)"
      ]
    },
    {
      "cell_type": "markdown",
      "metadata": {},
      "source": [
        "### TabNet: \n",
        "- TabNet is a deep learning model specifically designed for tabular data. \n",
        "- It uses a modified form of the transformer architecture and employs a combination of sequential and attention-based processing to capture the relationships between different features in the tabular data"
      ]
    },
    {
      "cell_type": "code",
      "execution_count": 78,
      "metadata": {},
      "outputs": [],
      "source": [
        "# ! pip install torch torchvision torchaudio\n",
        "# ! pip install pytorch-tabnet"
      ]
    },
    {
      "cell_type": "code",
      "execution_count": 75,
      "metadata": {},
      "outputs": [],
      "source": [
        "import torch\n",
        "from pytorch_tabnet.tab_model import TabNetClassifier, TabNetRegressor"
      ]
    },
    {
      "cell_type": "code",
      "execution_count": 77,
      "metadata": {},
      "outputs": [],
      "source": [
        "clf = TabNetClassifier()"
      ]
    },
    {
      "cell_type": "code",
      "execution_count": 83,
      "metadata": {},
      "outputs": [
        {
          "name": "stdout",
          "output_type": "stream",
          "text": [
            "epoch 0  | loss: 1.10954 | val_0_accuracy: 0.49397 |  0:00:01s\n",
            "epoch 1  | loss: 1.01139 | val_0_accuracy: 0.505   |  0:00:02s\n",
            "epoch 2  | loss: 0.99893 | val_0_accuracy: 0.51732 |  0:00:03s\n",
            "epoch 3  | loss: 0.99377 | val_0_accuracy: 0.51899 |  0:00:04s\n",
            "epoch 4  | loss: 0.99188 | val_0_accuracy: 0.51886 |  0:00:05s\n",
            "epoch 5  | loss: 0.9912  | val_0_accuracy: 0.51873 |  0:00:06s\n",
            "epoch 6  | loss: 0.98737 | val_0_accuracy: 0.51475 |  0:00:08s\n",
            "epoch 7  | loss: 0.98919 | val_0_accuracy: 0.52168 |  0:00:09s\n",
            "epoch 8  | loss: 0.98701 | val_0_accuracy: 0.5213  |  0:00:10s\n",
            "epoch 9  | loss: 0.98813 | val_0_accuracy: 0.52194 |  0:00:11s\n",
            "epoch 10 | loss: 0.98695 | val_0_accuracy: 0.52079 |  0:00:12s\n",
            "epoch 11 | loss: 0.98425 | val_0_accuracy: 0.52489 |  0:00:13s\n",
            "epoch 12 | loss: 0.98541 | val_0_accuracy: 0.51758 |  0:00:15s\n",
            "epoch 13 | loss: 0.98332 | val_0_accuracy: 0.52284 |  0:00:16s\n",
            "epoch 14 | loss: 0.98252 | val_0_accuracy: 0.52143 |  0:00:17s\n",
            "epoch 15 | loss: 0.98355 | val_0_accuracy: 0.52245 |  0:00:18s\n",
            "epoch 16 | loss: 0.98272 | val_0_accuracy: 0.52232 |  0:00:19s\n",
            "epoch 17 | loss: 0.98295 | val_0_accuracy: 0.52348 |  0:00:20s\n",
            "\n",
            "Early stopping occurred at epoch 17 with best_epoch = 11 and best_val_0_accuracy = 0.52489\n"
          ]
        }
      ],
      "source": [
        "# Fit the model on the training data\n",
        "clf.fit(\n",
        "    X_train=X_train,\n",
        "    y_train=y_train,\n",
        "    eval_set=[(X_test,y_test)],\n",
        "    patience=6,  # Number of epochs with no improvement after which training will be stopped\n",
        "    max_epochs=100,  # Maximum number of training epochs\n",
        ")"
      ]
    },
    {
      "cell_type": "code",
      "execution_count": 86,
      "metadata": {},
      "outputs": [],
      "source": [
        "# Make predictions\n",
        "predictions = clf.predict(X_test)\n",
        "# predicted_labels = tf.argmax(predictions, axis=1)"
      ]
    },
    {
      "cell_type": "code",
      "execution_count": 88,
      "metadata": {},
      "outputs": [
        {
          "data": {
            "image/png": "[encoded data removed]",
            "text/plain": [
              "<Figure size 432x288 with 2 Axes>"
            ]
          },
          "metadata": {
            "needs_background": "light"
          },
          "output_type": "display_data"
        }
      ],
      "source": [
        "print_cm(y_test,predictions)"
      ]
    },
    {
      "cell_type": "markdown",
      "metadata": {},
      "source": [
        "not good."
      ]
    },
    {
      "cell_type": "code",
      "execution_count": null,
      "metadata": {},
      "outputs": [],
      "source": []
    }
  ],
  "metadata": {
    "colab": {
      "provenance": []
    },
    "kernelspec": {
      "display_name": "Python 3",
      "name": "python3"
    },
    "language_info": {
      "codemirror_mode": {
        "name": "ipython",
        "version": 3
      },
      "file_extension": ".py",
      "mimetype": "text/x-python",
      "name": "python",
      "nbconvert_exporter": "python",
      "pygments_lexer": "ipython3",
      "version": "3.8.11"
    }
  },
  "nbformat": 4,
  "nbformat_minor": 0
}
