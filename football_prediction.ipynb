{
  "cells": [
    {
      "cell_type": "code",
      "execution_count": 1,
      "metadata": {
        "id": "EDeJex3c1fmx"
      },
      "outputs": [],
      "source": [
        "# importing nacessary libraries\n",
        "import sqlite3\n",
        "import pandas as pd\n",
        "import seaborn as sns\n",
        "import matplotlib.pyplot as plt\n",
        "import numpy as np\n",
        "%matplotlib inline\n",
        "pd.set_option('display.max_columns', None)\n",
        "pd.set_option('display.max_rows', None)"
      ]
    },
    {
      "cell_type": "code",
      "execution_count": 2,
      "metadata": {
        "id": "LsNtk3LE13Bj"
      },
      "outputs": [],
      "source": [
        "# reading the .pkl file which containes the list of features required\n",
        "df = pd.read_pickle(\"merged_all_table.pkl\", compression='bz2')"
      ]
    },
    {
      "cell_type": "code",
      "execution_count": 3,
      "metadata": {},
      "outputs": [
        {
          "data": {
            "text/plain": [
              "(25979, 54)"
            ]
          },
          "execution_count": 3,
          "metadata": {},
          "output_type": "execute_result"
        }
      ],
      "source": [
        "# checking the shape of the data\n",
        "df.shape"
      ]
    },
    {
      "cell_type": "code",
      "execution_count": 4,
      "metadata": {},
      "outputs": [
        {
          "data": {
            "text/plain": [
              "match_api_id                            0\n",
              "goal                                11762\n",
              "shoton                              11762\n",
              "shotoff                             11762\n",
              "foulcommit                          11762\n",
              "card                                11762\n",
              "cross                               11762\n",
              "corner                              11762\n",
              "possession                          11762\n",
              "B365H                                3387\n",
              "B365D                                3387\n",
              "B365A                                3387\n",
              "BWH                                  3404\n",
              "BWD                                  3404\n",
              "BWA                                  3404\n",
              "IWH                                  3459\n",
              "IWD                                  3459\n",
              "IWA                                  3459\n",
              "LBH                                  3423\n",
              "LBD                                  3423\n",
              "LBA                                  3423\n",
              "PSH                                 14811\n",
              "PSD                                 14811\n",
              "PSA                                 14811\n",
              "WHH                                  3408\n",
              "WHD                                  3408\n",
              "WHA                                  3408\n",
              "SJH                                  8882\n",
              "SJD                                  8882\n",
              "SJA                                  8882\n",
              "VCH                                  3411\n",
              "VCD                                  3411\n",
              "VCA                                  3411\n",
              "GBH                                 11817\n",
              "GBD                                 11817\n",
              "GBA                                 11817\n",
              "BSH                                 11818\n",
              "BSD                                 11818\n",
              "BSA                                 11818\n",
              "league_name                             0\n",
              "country_name                            0\n",
              "team_api_id                             0\n",
              "team_long_name                          0\n",
              "team_short_name                         0\n",
              "team_overall_score                      0\n",
              "home_total_goal                         0\n",
              "away_total_goal                         0\n",
              "home_players_avg_overall_rating         0\n",
              "home_players_avg_overall_score          0\n",
              "home_players_avg_ideal_body_rate        0\n",
              "away_players_avg_overall_rating         0\n",
              "away_players_avg_overall_score          0\n",
              "away_players_avg_ideal_body_rate        0\n",
              "target                                  0\n",
              "dtype: int64"
            ]
          },
          "execution_count": 4,
          "metadata": {},
          "output_type": "execute_result"
        }
      ],
      "source": [
        "# checking for null values\n",
        "df.isna().sum()"
      ]
    },
    {
      "attachments": {},
      "cell_type": "markdown",
      "metadata": {},
      "source": [
        "# Preprocessing"
      ]
    },
    {
      "cell_type": "code",
      "execution_count": 5,
      "metadata": {
        "id": "Gd7pi1zi-0Em"
      },
      "outputs": [],
      "source": [
        "# creating a deep copy of match \n",
        "match_df = df.copy()"
      ]
    },
    {
      "cell_type": "code",
      "execution_count": 6,
      "metadata": {},
      "outputs": [
        {
          "data": {
            "text/plain": [
              "Index(['match_api_id', 'goal', 'shoton', 'shotoff', 'foulcommit', 'card',\n",
              "       'cross', 'corner', 'possession', 'B365H', 'B365D', 'B365A', 'BWH',\n",
              "       'BWD', 'BWA', 'IWH', 'IWD', 'IWA', 'LBH', 'LBD', 'LBA', 'PSH', 'PSD',\n",
              "       'PSA', 'WHH', 'WHD', 'WHA', 'SJH', 'SJD', 'SJA', 'VCH', 'VCD', 'VCA',\n",
              "       'GBH', 'GBD', 'GBA', 'BSH', 'BSD', 'BSA', 'league_name', 'country_name',\n",
              "       'team_api_id', 'team_long_name', 'team_short_name',\n",
              "       'team_overall_score', 'home_total_goal', 'away_total_goal',\n",
              "       'home_players_avg_overall_rating', 'home_players_avg_overall_score',\n",
              "       'home_players_avg_ideal_body_rate', 'away_players_avg_overall_rating',\n",
              "       'away_players_avg_overall_score', 'away_players_avg_ideal_body_rate',\n",
              "       'target'],\n",
              "      dtype='object')"
            ]
          },
          "execution_count": 6,
          "metadata": {},
          "output_type": "execute_result"
        }
      ],
      "source": [
        "match_df.columns"
      ]
    },
    {
      "cell_type": "code",
      "execution_count": 7,
      "metadata": {
        "id": "hOpT3jep_iCS"
      },
      "outputs": [],
      "source": [
        "# #droping some columns\n",
        "# cols_to_drop =['match_api_id' ,'home_team_api_id' ,'away_team_api_id','PSH', 'PSD', 'PSA','GBH', 'GBD', 'GBA','BSH', 'BSD', 'BSA','home_player_X1' ,'home_player_X2' ,'home_player_X3' ,'home_player_X4' ,'home_player_X5' ,'home_player_X6' ,\n",
        "#                'home_player_X7' ,'home_player_X8' ,'home_player_X9' ,'home_player_X10' ,'home_player_X11' ,'away_player_X1' ,'away_player_X2' ,\n",
        "#                'away_player_X3' ,'away_player_X4' ,'away_player_X5' ,'away_player_X6' ,'away_player_X7' ,'away_player_X8' ,'away_player_X9' ,\n",
        "#                'away_player_X10' ,'away_player_X11' ,'home_player_Y1' ,'home_player_Y2' ,'home_player_Y3' ,'home_player_Y4' ,'home_player_Y5' ,\n",
        "#                'home_player_Y6' ,'home_player_Y7' ,'home_player_Y8' ,'home_player_Y9' ,'home_player_Y10' ,'home_player_Y11' ,'away_player_Y1' ,\n",
        "#                'away_player_Y2' ,'away_player_Y3' ,'away_player_Y4' ,'away_player_Y5' ,'away_player_Y6' ,'away_player_Y7' ,'away_player_Y8' ,\n",
        "#                'away_player_Y9' ,'away_player_Y10' ,'away_player_Y11' ,'goal' ,'shoton' ,'shotoff' ,'foulcommit' ,'card' ,'cross' ,'corner' ,\n",
        "#                'possession','season', 'stage', 'date','country_name', 'league_name','season','stage','date',\"goal\", \"shoton\", \"shotoff\", \"foulcommit\", \"card\", \"cross\", \"corner\", \"possession\"]\n",
        "# match_df.drop(columns=cols_to_drop, inplace = True)\n",
        "\n",
        "# # before removing bets\n",
        "# cols_to_drop =['match_api_id' ,'PSH', 'PSD', 'PSA','GBH', 'GBD', 'GBA','BSH', 'BSD', 'BSA',\n",
        "#                'goal' ,'shoton' ,'shotoff' ,'foulcommit' ,'card' ,'cross' ,'corner' , 'possession',\n",
        "#                'country_name', 'league_name', 'team_long_name', 'team_short_name']\n",
        "# match_df.drop(columns=cols_to_drop, inplace = True)\n",
        "\n",
        "# removing bets too\n",
        "cols_to_drop =['match_api_id' , 'B365H', 'B365D', 'B365A', 'BWH',\n",
        "                'BWD', 'BWA', 'IWH', 'IWD', 'IWA', 'LBH', 'LBD', 'LBA', 'PSH', 'PSD',\n",
        "                'PSA', 'WHH', 'WHD', 'WHA', 'SJH', 'SJD', 'SJA', 'VCH', 'VCD', 'VCA',\n",
        "                'GBH', 'GBD', 'GBA', 'BSH', 'BSD', 'BSA', 'team_api_id',\n",
        "               'goal' ,'shoton' ,'shotoff' ,'foulcommit' ,'card' ,'cross' ,'corner' , 'possession',\n",
        "               'country_name', 'league_name', 'team_long_name', 'team_short_name']\n",
        "match_df.drop(columns=cols_to_drop, inplace = True)"
      ]
    },
    {
      "cell_type": "code",
      "execution_count": 8,
      "metadata": {
        "id": "ZVXJMRhuA5fw"
      },
      "outputs": [
        {
          "data": {
            "text/plain": [
              "(25979, 10)"
            ]
          },
          "execution_count": 8,
          "metadata": {},
          "output_type": "execute_result"
        }
      ],
      "source": [
        "# shape after dropping columns\n",
        "match_df.shape"
      ]
    },
    {
      "cell_type": "code",
      "execution_count": 9,
      "metadata": {},
      "outputs": [],
      "source": [
        "# creating input and output for the model\n",
        "X = match_df.drop(columns=['target'])\n",
        "y= match_df[['target']]"
      ]
    },
    {
      "cell_type": "code",
      "execution_count": 10,
      "metadata": {},
      "outputs": [
        {
          "data": {
            "text/plain": [
              "(25979, 9)"
            ]
          },
          "execution_count": 10,
          "metadata": {},
          "output_type": "execute_result"
        }
      ],
      "source": [
        "# input shape\n",
        "X.shape"
      ]
    },
    {
      "cell_type": "code",
      "execution_count": 11,
      "metadata": {},
      "outputs": [
        {
          "data": {
            "text/plain": [
              "team_overall_score                  float64\n",
              "home_total_goal                       int64\n",
              "away_total_goal                       int64\n",
              "home_players_avg_overall_rating     float64\n",
              "home_players_avg_overall_score      float64\n",
              "home_players_avg_ideal_body_rate    float64\n",
              "away_players_avg_overall_rating     float64\n",
              "away_players_avg_overall_score      float64\n",
              "away_players_avg_ideal_body_rate    float64\n",
              "dtype: object"
            ]
          },
          "execution_count": 11,
          "metadata": {},
          "output_type": "execute_result"
        }
      ],
      "source": [
        "# checking for data types\n",
        "X.dtypes"
      ]
    },
    {
      "attachments": {},
      "cell_type": "markdown",
      "metadata": {},
      "source": [
        "## Handling Missing Values"
      ]
    },
    {
      "cell_type": "code",
      "execution_count": 12,
      "metadata": {},
      "outputs": [
        {
          "name": "stderr",
          "output_type": "stream",
          "text": [
            "c:\\Anaconda3\\lib\\site-packages\\sklearn\\preprocessing\\_label.py:116: DataConversionWarning: A column-vector y was passed when a 1d array was expected. Please change the shape of y to (n_samples, ), for example using ravel().\n",
            "  y = column_or_1d(y, warn=True)\n"
          ]
        }
      ],
      "source": [
        "# handling missing values\n",
        "from sklearn.impute import SimpleImputer\n",
        "from sklearn.preprocessing import StandardScaler\n",
        "from sklearn.preprocessing import LabelEncoder\n",
        "\n",
        "# Perform missing value imputation using 'mean' strategy for numeric columns\n",
        "numeric_imputer = SimpleImputer(strategy='mean')\n",
        "X = numeric_imputer.fit_transform(X)\n",
        "sc = StandardScaler()\n",
        "X_preprocess = sc.fit_transform(X)\n",
        "le = LabelEncoder()\n",
        "y_le_encoded = le.fit_transform(y)"
      ]
    },
    {
      "cell_type": "code",
      "execution_count": 17,
      "metadata": {},
      "outputs": [],
      "source": [
        "from sklearn.model_selection import cross_val_score\n",
        "from sklearn.metrics import confusion_matrix, f1_score, precision_score, recall_score, precision_recall_fscore_support\n",
        "from sklearn.linear_model import LogisticRegression\n",
        "from sklearn.tree import DecisionTreeClassifier\n",
        "from sklearn.ensemble import RandomForestClassifier\n",
        "from sklearn.naive_bayes import GaussianNB\n",
        "from sklearn.svm import SVC\n",
        "import xgboost as xgb\n",
        "from lightgbm import LGBMClassifier\n",
        "import warnings\n",
        "warnings.filterwarnings('ignore')"
      ]
    },
    {
      "cell_type": "code",
      "execution_count": 131,
      "metadata": {},
      "outputs": [
        {
          "name": "stdout",
          "output_type": "stream",
          "text": [
            "Classifier: LogisticRegression\n",
            "Accuracy: 0.530928670236452\n",
            "\n",
            "Classifier: DecisionTreeClassifier\n",
            "Accuracy: 0.39774491520463284\n",
            "\n",
            "Classifier: GaussianNB\n",
            "Accuracy: 0.5086803575119975\n",
            "\n",
            "Classifier: RandomForestClassifier\n",
            "Accuracy: 0.4946307406081972\n",
            "\n",
            "Classifier: XGBClassifier\n",
            "Accuracy: 0.4945920345923902\n",
            "\n",
            "Classifier: LGBMClassifier\n",
            "Accuracy: 0.5071793880092853\n",
            "\n"
          ]
        }
      ],
      "source": [
        "# Define the classifiers\n",
        "classifiers = [\n",
        "    LogisticRegression(),\n",
        "    DecisionTreeClassifier(),\n",
        "    GaussianNB(),\n",
        "    # SVC(),\n",
        "    RandomForestClassifier(),\n",
        "    xgb.XGBClassifier(),\n",
        "    LGBMClassifier()\n",
        "]\n",
        "# Loop through each classifier and compute the accuracy\n",
        "for classifier in classifiers:\n",
        "    scores = cross_val_score(classifier,X_preprocess, y_le_encoded, cv=5)\n",
        "    avg_accuracy = scores.mean()\n",
        "    print(f\"Classifier: {classifier.__class__.__name__}\")\n",
        "    print(f\"Accuracy: {avg_accuracy}\\n\")"
      ]
    },
    {
      "cell_type": "code",
      "execution_count": 132,
      "metadata": {},
      "outputs": [],
      "source": [
        "# only bets features\n",
        "# Classifier: LogisticRegression\n",
        "# Accuracy: 0.5200735666215441\n",
        "\n",
        "# added 'country_id' ,'league_id' ,'season' ,'stage' with bets\n",
        "# Classifier: LogisticRegression\n",
        "# Accuracy: 0.4584877313636536\n",
        "\n",
        "# with bets\n",
        "# Classifier: LogisticRegression\n",
        "# Accuracy: 0.5321219921150571\n",
        "\n",
        "# Classifier: DecisionTreeClassifier\n",
        "# Accuracy: 0.3985523698173097\n",
        "\n",
        "# Classifier: GaussianNB\n",
        "# Accuracy: 0.3997069041781603\n",
        "\n",
        "# Classifier: SVC\n",
        "# Accuracy: 0.5260017070953372\n",
        "\n",
        "# Classifier: RandomForestClassifier\n",
        "# Accuracy: 0.49928845836102553\n",
        "\n",
        "# Classifier: XGBClassifier\n",
        "# Accuracy: 0.48962709154372847\n",
        "\n",
        "# Classifier: LGBMClassifier\n",
        "# Accuracy: 0.5067175535189948"
      ]
    },
    {
      "cell_type": "code",
      "execution_count": 18,
      "metadata": {},
      "outputs": [],
      "source": [
        "def calculate_performance_metrics(y_true, y_pred):\n",
        "    # Calculate confusion matrix\n",
        "    cm = confusion_matrix(y_true, y_pred)\n",
        "    \n",
        "    # Calculate performance metrics\n",
        "    accuracy = cm.diagonal().sum() / cm.sum()\n",
        "    precision, recall, f1_score, _ = precision_recall_fscore_support(y_true, y_pred, average='weighted')\n",
        "    \n",
        "    # Print performance metrics\n",
        "    print(\"Accuracy:\", accuracy)\n",
        "    print(\"Precision:\", precision)\n",
        "    print(\"Recall:\", recall)\n",
        "    print(\"F1 Score:\", f1_score)"
      ]
    },
    {
      "cell_type": "code",
      "execution_count": 19,
      "metadata": {},
      "outputs": [],
      "source": [
        "def print_cm(y_test,y_pred):\n",
        "    # Plot confusion matrix\n",
        "    cm = confusion_matrix(y_test, y_pred)\n",
        "    sns.heatmap(cm, annot=True, fmt='d', cmap='Blues')\n",
        "    plt.xlabel('Predicted')\n",
        "    plt.ylabel('Actual')\n",
        "    plt.title('Confusion Matrix')\n",
        "    plt.show()"
      ]
    },
    {
      "cell_type": "code",
      "execution_count": 20,
      "metadata": {},
      "outputs": [],
      "source": [
        "def feature_importance(model_name):\n",
        "    # plotting the important features from the input for better understanding\n",
        "    importances= model_name.feature_importances_\n",
        "    forest_importances = pd.Series(importances, index=(match_df.drop(columns=['target'])).columns)\n",
        "\n",
        "    fig, ax = plt.subplots()\n",
        "    forest_importances.plot.bar(forest_importances)\n",
        "    ax.set_title(\"Feature importances\")\n",
        "    ax.set_ylabel(\"FI\")\n",
        "    fig.tight_layout()"
      ]
    },
    {
      "attachments": {},
      "cell_type": "markdown",
      "metadata": {},
      "source": [
        "### Train Test split for the Models"
      ]
    },
    {
      "cell_type": "code",
      "execution_count": 21,
      "metadata": {},
      "outputs": [],
      "source": [
        "# splitting the data into train and test\n",
        "from sklearn.model_selection import train_test_split\n",
        "X_train, X_test, y_train, y_test = train_test_split(X_preprocess,y_le_encoded, stratify=y_le_encoded, test_size=0.3, random_state=42)"
      ]
    },
    {
      "attachments": {},
      "cell_type": "markdown",
      "metadata": {},
      "source": [
        "## Checking LGBM"
      ]
    },
    {
      "cell_type": "code",
      "execution_count": 22,
      "metadata": {},
      "outputs": [
        {
          "name": "stdout",
          "output_type": "stream",
          "text": [
            "[LightGBM] [Warning] Auto-choosing col-wise multi-threading, the overhead of testing was 0.000500 seconds.\n",
            "You can set `force_col_wise=true` to remove the overhead.\n",
            "[LightGBM] [Info] Total Bins 2020\n",
            "[LightGBM] [Info] Number of data points in the train set: 18185, number of used features: 9\n",
            "[LightGBM] [Info] Start training from score -1.246951\n",
            "[LightGBM] [Info] Start training from score -1.370852\n",
            "[LightGBM] [Info] Start training from score -0.779294\n"
          ]
        }
      ],
      "source": [
        "# defining the LGBM model\n",
        "lgbm_classifier = LGBMClassifier()\n",
        "lgbm_classifier.fit(X_train, y_train)\n",
        "\n",
        "# predicting using LGBM model\n",
        "y_pred_lgbm = lgbm_classifier.predict(X_test)"
      ]
    },
    {
      "cell_type": "code",
      "execution_count": 23,
      "metadata": {},
      "outputs": [
        {
          "data": {
            "text/plain": [
              "0.5218116499871697"
            ]
          },
          "execution_count": 23,
          "metadata": {},
          "output_type": "execute_result"
        }
      ],
      "source": [
        "# checking for the accuracy\n",
        "lgbm_classifier.score(X_test,y_test)"
      ]
    },
    {
      "cell_type": "code",
      "execution_count": 24,
      "metadata": {},
      "outputs": [
        {
          "data": {
            "image/png": "[encoded data removed]",
            "text/plain": [
              "<Figure size 432x288 with 2 Axes>"
            ]
          },
          "metadata": {
            "needs_background": "light"
          },
          "output_type": "display_data"
        }
      ],
      "source": [
        "print_cm(y_test,y_pred_lgbm)"
      ]
    },
    {
      "cell_type": "code",
      "execution_count": 25,
      "metadata": {},
      "outputs": [
        {
          "name": "stdout",
          "output_type": "stream",
          "text": [
            "Accuracy: 0.5218116499871697\n",
            "Precision: 0.4646674372262595\n",
            "Recall: 0.5218116499871697\n",
            "F1 Score: 0.46120340134209026\n"
          ]
        }
      ],
      "source": [
        "calculate_performance_metrics(y_test,y_pred_lgbm)"
      ]
    },
    {
      "cell_type": "code",
      "execution_count": 26,
      "metadata": {},
      "outputs": [
        {
          "data": {
            "image/png": "[encoded data removed]",
            "text/plain": [
              "<Figure size 432x288 with 1 Axes>"
            ]
          },
          "metadata": {
            "needs_background": "light"
          },
          "output_type": "display_data"
        }
      ],
      "source": [
        "feature_importance(lgbm_classifier)"
      ]
    },
    {
      "attachments": {},
      "cell_type": "markdown",
      "metadata": {},
      "source": [
        "## Checking Random Forest"
      ]
    },
    {
      "cell_type": "code",
      "execution_count": 27,
      "metadata": {},
      "outputs": [],
      "source": [
        "# checking using randomforest\n",
        "rf = RandomForestClassifier()\n",
        "rf.fit(X_train,y_train)\n",
        "\n",
        "# predicting using LGBM model\n",
        "y_pred_rf = rf.predict(X_test)"
      ]
    },
    {
      "cell_type": "code",
      "execution_count": 28,
      "metadata": {},
      "outputs": [
        {
          "data": {
            "text/plain": [
              "0.5048755452912497"
            ]
          },
          "execution_count": 28,
          "metadata": {},
          "output_type": "execute_result"
        }
      ],
      "source": [
        "# checking for the accuracy\n",
        "rf.score(X_test,y_test)"
      ]
    },
    {
      "cell_type": "code",
      "execution_count": 29,
      "metadata": {},
      "outputs": [
        {
          "data": {
            "image/png": "[encoded data removed]",
            "text/plain": [
              "<Figure size 432x288 with 2 Axes>"
            ]
          },
          "metadata": {
            "needs_background": "light"
          },
          "output_type": "display_data"
        }
      ],
      "source": [
        "print_cm(y_test,y_pred_rf)"
      ]
    },
    {
      "cell_type": "code",
      "execution_count": 30,
      "metadata": {},
      "outputs": [
        {
          "name": "stdout",
          "output_type": "stream",
          "text": [
            "Accuracy: 0.5048755452912497\n",
            "Precision: 0.46209960757174895\n",
            "Recall: 0.5048755452912497\n",
            "F1 Score: 0.46804711264230386\n"
          ]
        }
      ],
      "source": [
        "calculate_performance_metrics(y_test,y_pred_rf)"
      ]
    },
    {
      "cell_type": "code",
      "execution_count": 31,
      "metadata": {},
      "outputs": [
        {
          "data": {
            "image/png": "[encoded data removed]",
            "text/plain": [
              "<Figure size 432x288 with 1 Axes>"
            ]
          },
          "metadata": {
            "needs_background": "light"
          },
          "output_type": "display_data"
        }
      ],
      "source": [
        "feature_importance(rf)"
      ]
    },
    {
      "attachments": {},
      "cell_type": "markdown",
      "metadata": {},
      "source": [
        "## Checking Logistic Regression"
      ]
    },
    {
      "cell_type": "code",
      "execution_count": 32,
      "metadata": {},
      "outputs": [],
      "source": [
        "# checking using randomforest\n",
        "lr = LogisticRegression()\n",
        "lr.fit(X_train,y_train)\n",
        "\n",
        "# predicting using LGBM model\n",
        "y_pred_lr = lr.predict(X_test)"
      ]
    },
    {
      "cell_type": "code",
      "execution_count": 33,
      "metadata": {},
      "outputs": [
        {
          "data": {
            "text/plain": [
              "0.5309212214523993"
            ]
          },
          "execution_count": 33,
          "metadata": {},
          "output_type": "execute_result"
        }
      ],
      "source": [
        "# checking for the accuracy\n",
        "lr.score(X_test,y_test)"
      ]
    },
    {
      "cell_type": "code",
      "execution_count": 34,
      "metadata": {},
      "outputs": [
        {
          "data": {
            "image/png": "[encoded data removed]",
            "text/plain": [
              "<Figure size 432x288 with 2 Axes>"
            ]
          },
          "metadata": {
            "needs_background": "light"
          },
          "output_type": "display_data"
        }
      ],
      "source": [
        "print_cm(y_test,y_pred_lr)"
      ]
    },
    {
      "cell_type": "code",
      "execution_count": 35,
      "metadata": {},
      "outputs": [
        {
          "name": "stdout",
          "output_type": "stream",
          "text": [
            "Accuracy: 0.5309212214523993\n",
            "Precision: 0.4559893228041587\n",
            "Recall: 0.5309212214523993\n",
            "F1 Score: 0.4477036012562283\n"
          ]
        }
      ],
      "source": [
        "calculate_performance_metrics(y_test,y_pred_lr)"
      ]
    },
    {
      "attachments": {},
      "cell_type": "markdown",
      "metadata": {},
      "source": [
        "## Checking Decision Classifier"
      ]
    },
    {
      "cell_type": "code",
      "execution_count": 36,
      "metadata": {},
      "outputs": [],
      "source": [
        "# checking using randomforest\n",
        "dt = DecisionTreeClassifier()\n",
        "dt.fit(X_train,y_train)\n",
        "\n",
        "# predicting using LGBM model\n",
        "y_pred_dt = dt.predict(X_test)"
      ]
    },
    {
      "cell_type": "code",
      "execution_count": 37,
      "metadata": {},
      "outputs": [
        {
          "data": {
            "text/plain": [
              "0.41878367975365666"
            ]
          },
          "execution_count": 37,
          "metadata": {},
          "output_type": "execute_result"
        }
      ],
      "source": [
        "# checking for the accuracy\n",
        "dt.score(X_test,y_test)"
      ]
    },
    {
      "cell_type": "code",
      "execution_count": 38,
      "metadata": {},
      "outputs": [
        {
          "data": {
            "image/png": "[encoded data removed]",
            "text/plain": [
              "<Figure size 432x288 with 2 Axes>"
            ]
          },
          "metadata": {
            "needs_background": "light"
          },
          "output_type": "display_data"
        }
      ],
      "source": [
        "print_cm(y_test,y_pred_dt)"
      ]
    },
    {
      "cell_type": "code",
      "execution_count": 39,
      "metadata": {},
      "outputs": [
        {
          "name": "stdout",
          "output_type": "stream",
          "text": [
            "Accuracy: 0.41878367975365666\n",
            "Precision: 0.42198735346925975\n",
            "Recall: 0.41878367975365666\n",
            "F1 Score: 0.42030385692456235\n"
          ]
        }
      ],
      "source": [
        "calculate_performance_metrics(y_test,y_pred_dt)"
      ]
    },
    {
      "cell_type": "code",
      "execution_count": 40,
      "metadata": {},
      "outputs": [
        {
          "data": {
            "image/png": "[encoded data removed]",
            "text/plain": [
              "<Figure size 432x288 with 1 Axes>"
            ]
          },
          "metadata": {
            "needs_background": "light"
          },
          "output_type": "display_data"
        }
      ],
      "source": [
        "feature_importance(dt)"
      ]
    },
    {
      "attachments": {},
      "cell_type": "markdown",
      "metadata": {},
      "source": [
        "## Checking Naive Bays"
      ]
    },
    {
      "cell_type": "code",
      "execution_count": 41,
      "metadata": {},
      "outputs": [],
      "source": [
        "# checking using randomforest\n",
        "nb = GaussianNB()\n",
        "nb.fit(X_train,y_train)\n",
        "\n",
        "# predicting using LGBM model\n",
        "y_pred_nb = nb.predict(X_test)"
      ]
    },
    {
      "cell_type": "code",
      "execution_count": 42,
      "metadata": {},
      "outputs": [
        {
          "data": {
            "text/plain": [
              "0.5182191429304593"
            ]
          },
          "execution_count": 42,
          "metadata": {},
          "output_type": "execute_result"
        }
      ],
      "source": [
        "# checking for the accuracy\n",
        "nb.score(X_test,y_test)"
      ]
    },
    {
      "cell_type": "code",
      "execution_count": 43,
      "metadata": {},
      "outputs": [
        {
          "data": {
            "image/png": "[encoded data removed]",
            "text/plain": [
              "<Figure size 432x288 with 2 Axes>"
            ]
          },
          "metadata": {
            "needs_background": "light"
          },
          "output_type": "display_data"
        }
      ],
      "source": [
        "print_cm(y_test,y_pred_nb)"
      ]
    },
    {
      "cell_type": "code",
      "execution_count": 44,
      "metadata": {},
      "outputs": [
        {
          "name": "stdout",
          "output_type": "stream",
          "text": [
            "Accuracy: 0.5182191429304593\n",
            "Precision: 0.4511665280821707\n",
            "Recall: 0.5182191429304593\n",
            "F1 Score: 0.45106844970599114\n"
          ]
        }
      ],
      "source": [
        "calculate_performance_metrics(y_test,y_pred_nb)"
      ]
    },
    {
      "attachments": {},
      "cell_type": "markdown",
      "metadata": {},
      "source": [
        "## Checking SVC"
      ]
    },
    {
      "cell_type": "code",
      "execution_count": 45,
      "metadata": {},
      "outputs": [],
      "source": [
        "# checking using randomforest\n",
        "svc = SVC()\n",
        "svc.fit(X_train,y_train)\n",
        "\n",
        "# predicting using LGBM model\n",
        "y_pred_svc = svc.predict(X_test)"
      ]
    },
    {
      "cell_type": "code",
      "execution_count": 46,
      "metadata": {},
      "outputs": [
        {
          "data": {
            "text/plain": [
              "0.5283551449833205"
            ]
          },
          "execution_count": 46,
          "metadata": {},
          "output_type": "execute_result"
        }
      ],
      "source": [
        "# checking for the accuracy\n",
        "svc.score(X_test,y_test)"
      ]
    },
    {
      "cell_type": "code",
      "execution_count": 47,
      "metadata": {},
      "outputs": [
        {
          "data": {
            "image/png": "[encoded data removed]",
            "text/plain": [
              "<Figure size 432x288 with 2 Axes>"
            ]
          },
          "metadata": {
            "needs_background": "light"
          },
          "output_type": "display_data"
        }
      ],
      "source": [
        "print_cm(y_test,y_pred_svc)"
      ]
    },
    {
      "cell_type": "code",
      "execution_count": 48,
      "metadata": {},
      "outputs": [
        {
          "name": "stdout",
          "output_type": "stream",
          "text": [
            "Accuracy: 0.5283551449833205\n",
            "Precision: 0.39248517773253633\n",
            "Recall: 0.5283551449833205\n",
            "F1 Score: 0.4398255805368541\n"
          ]
        }
      ],
      "source": [
        "calculate_performance_metrics(y_test,y_pred_svc)"
      ]
    },
    {
      "attachments": {},
      "cell_type": "markdown",
      "metadata": {},
      "source": [
        "## Checking XGB"
      ]
    },
    {
      "cell_type": "code",
      "execution_count": 49,
      "metadata": {},
      "outputs": [],
      "source": [
        "# checking using randomforest\n",
        "xb = xgb.XGBClassifier()\n",
        "xb.fit(X_train,y_train)\n",
        "\n",
        "# predicting using LGBM model\n",
        "y_pred_xb = xb.predict(X_test)"
      ]
    },
    {
      "cell_type": "code",
      "execution_count": 50,
      "metadata": {},
      "outputs": [
        {
          "data": {
            "text/plain": [
              "0.5153964588144727"
            ]
          },
          "execution_count": 50,
          "metadata": {},
          "output_type": "execute_result"
        }
      ],
      "source": [
        "# checking for the accuracy\n",
        "xb.score(X_test,y_test)"
      ]
    },
    {
      "cell_type": "code",
      "execution_count": 51,
      "metadata": {},
      "outputs": [
        {
          "data": {
            "image/png": "[encoded data removed]",
            "text/plain": [
              "<Figure size 432x288 with 2 Axes>"
            ]
          },
          "metadata": {
            "needs_background": "light"
          },
          "output_type": "display_data"
        }
      ],
      "source": [
        "print_cm(y_test,y_pred_xb)"
      ]
    },
    {
      "cell_type": "code",
      "execution_count": 52,
      "metadata": {},
      "outputs": [
        {
          "name": "stdout",
          "output_type": "stream",
          "text": [
            "Accuracy: 0.5153964588144727\n",
            "Precision: 0.4713969628736005\n",
            "Recall: 0.5153964588144727\n",
            "F1 Score: 0.4704386072157805\n"
          ]
        }
      ],
      "source": [
        "calculate_performance_metrics(y_test,y_pred_xb)"
      ]
    },
    {
      "cell_type": "code",
      "execution_count": 53,
      "metadata": {},
      "outputs": [
        {
          "data": {
            "image/png": "[encoded data removed]",
            "text/plain": [
              "<Figure size 432x288 with 1 Axes>"
            ]
          },
          "metadata": {
            "needs_background": "light"
          },
          "output_type": "display_data"
        }
      ],
      "source": [
        "feature_importance(xb)"
      ]
    },
    {
      "attachments": {},
      "cell_type": "markdown",
      "metadata": {},
      "source": [
        "## Neural Network Model (Test)"
      ]
    },
    {
      "cell_type": "code",
      "execution_count": 56,
      "metadata": {},
      "outputs": [],
      "source": [
        "import tensorflow as tf\n",
        "from sklearn.preprocessing import OneHotEncoder"
      ]
    },
    {
      "cell_type": "code",
      "execution_count": 57,
      "metadata": {},
      "outputs": [],
      "source": [
        "# Create an instance of the OneHotEncoder\n",
        "oh = OneHotEncoder()\n",
        "\n",
        "# Fit and transform the categorical data\n",
        "oh_encoded = oh.fit_transform(y_train.reshape(-1, 1))\n",
        "\n",
        "# Convert the encoded data to a dense array\n",
        "oh_encoded = oh_encoded.toarray()\n",
        "\n",
        "# Fit and transform the categorical data\n",
        "oh_encoded_test = oh.fit_transform(y_test.reshape(-1, 1))\n",
        "\n",
        "# Convert the encoded data to a dense array\n",
        "oh_encoded_test = oh_encoded_test.toarray()"
      ]
    },
    {
      "cell_type": "code",
      "execution_count": 58,
      "metadata": {},
      "outputs": [],
      "source": [
        "# Define the neural network architecture\n",
        "model = tf.keras.models.Sequential([\n",
        "    tf.keras.layers.Dense(518, activation='relu', input_shape=(9,)),\n",
        "    tf.keras.layers.Dropout(0.1),\n",
        "    tf.keras.layers.Dense(256, activation='relu'),\n",
        "    tf.keras.layers.Dropout(0.1),\n",
        "    tf.keras.layers.Dense(128, activation='relu'),\n",
        "    tf.keras.layers.Dropout(0.1),\n",
        "    tf.keras.layers.Dense(24, activation='relu'),\n",
        "    tf.keras.layers.Dense(3, activation='softmax')\n",
        "])"
      ]
    },
    {
      "cell_type": "code",
      "execution_count": 59,
      "metadata": {},
      "outputs": [
        {
          "name": "stdout",
          "output_type": "stream",
          "text": [
            "Model: \"sequential\"\n",
            "_________________________________________________________________\n",
            " Layer (type)                Output Shape              Param #   \n",
            "=================================================================\n",
            " dense (Dense)               (None, 518)               5180      \n",
            "                                                                 \n",
            " dropout (Dropout)           (None, 518)               0         \n",
            "                                                                 \n",
            " dense_1 (Dense)             (None, 256)               132864    \n",
            "                                                                 \n",
            " dropout_1 (Dropout)         (None, 256)               0         \n",
            "                                                                 \n",
            " dense_2 (Dense)             (None, 128)               32896     \n",
            "                                                                 \n",
            " dropout_2 (Dropout)         (None, 128)               0         \n",
            "                                                                 \n",
            " dense_3 (Dense)             (None, 24)                3096      \n",
            "                                                                 \n",
            " dense_4 (Dense)             (None, 3)                 75        \n",
            "                                                                 \n",
            "=================================================================\n",
            "Total params: 174111 (680.12 KB)\n",
            "Trainable params: 174111 (680.12 KB)\n",
            "Non-trainable params: 0 (0.00 Byte)\n",
            "_________________________________________________________________\n"
          ]
        }
      ],
      "source": [
        "model.summary()"
      ]
    },
    {
      "cell_type": "code",
      "execution_count": 64,
      "metadata": {},
      "outputs": [],
      "source": [
        "# early stopping\n",
        "early_stopping = tf.keras.callbacks.EarlyStopping(patience=6,min_delta=0.001,restore_best_weights=True)"
      ]
    },
    {
      "cell_type": "code",
      "execution_count": 66,
      "metadata": {},
      "outputs": [],
      "source": [
        "# Compile the model\n",
        "model.compile(optimizer='adam',\n",
        "              loss='categorical_crossentropy',\n",
        "              metrics=['accuracy'])"
      ]
    },
    {
      "cell_type": "code",
      "execution_count": 69,
      "metadata": {},
      "outputs": [
        {
          "name": "stdout",
          "output_type": "stream",
          "text": [
            "Epoch 1/50\n",
            "  1/758 [..............................] - ETA: 5s - loss: 0.8166 - accuracy: 0.6250"
          ]
        },
        {
          "name": "stdout",
          "output_type": "stream",
          "text": [
            "758/758 [==============================] - 3s 4ms/step - loss: 0.8510 - accuracy: 0.6123 - val_loss: 1.1238 - val_accuracy: 0.5015\n",
            "Epoch 2/50\n",
            "758/758 [==============================] - 3s 4ms/step - loss: 0.8511 - accuracy: 0.6146 - val_loss: 1.1224 - val_accuracy: 0.5026\n",
            "Epoch 3/50\n",
            "758/758 [==============================] - 3s 4ms/step - loss: 0.8479 - accuracy: 0.6147 - val_loss: 1.1105 - val_accuracy: 0.4920\n",
            "Epoch 4/50\n",
            "758/758 [==============================] - 3s 4ms/step - loss: 0.8464 - accuracy: 0.6156 - val_loss: 1.1056 - val_accuracy: 0.4964\n",
            "Epoch 5/50\n",
            "758/758 [==============================] - 3s 4ms/step - loss: 0.8348 - accuracy: 0.6221 - val_loss: 1.1420 - val_accuracy: 0.4947\n",
            "Epoch 6/50\n",
            "758/758 [==============================] - 3s 4ms/step - loss: 0.8359 - accuracy: 0.6196 - val_loss: 1.1494 - val_accuracy: 0.4955\n",
            "Epoch 7/50\n",
            "758/758 [==============================] - 3s 4ms/step - loss: 0.8371 - accuracy: 0.6200 - val_loss: 1.1488 - val_accuracy: 0.4873\n",
            "Epoch 8/50\n",
            "758/758 [==============================] - 3s 4ms/step - loss: 0.8325 - accuracy: 0.6238 - val_loss: 1.1403 - val_accuracy: 0.4923\n",
            "Epoch 9/50\n",
            "758/758 [==============================] - 3s 4ms/step - loss: 0.8295 - accuracy: 0.6250 - val_loss: 1.1643 - val_accuracy: 0.4964\n",
            "Epoch 10/50\n",
            "758/758 [==============================] - 3s 4ms/step - loss: 0.8224 - accuracy: 0.6297 - val_loss: 1.1503 - val_accuracy: 0.4969\n"
          ]
        },
        {
          "data": {
            "text/plain": [
              "<keras.src.callbacks.History at 0x14913fc5fd0>"
            ]
          },
          "execution_count": 69,
          "metadata": {},
          "output_type": "execute_result"
        }
      ],
      "source": [
        "# Train the model\n",
        "model.fit(X_train, oh_encoded, epochs=50, batch_size=24,validation_data=(X_test,oh_encoded_test),\n",
        "              callbacks=[early_stopping])"
      ]
    },
    {
      "cell_type": "code",
      "execution_count": 70,
      "metadata": {},
      "outputs": [
        {
          "name": "stdout",
          "output_type": "stream",
          "text": [
            "  1/244 [..............................] - ETA: 6s - loss: 0.8933 - accuracy: 0.6562"
          ]
        },
        {
          "name": "stdout",
          "output_type": "stream",
          "text": [
            "244/244 [==============================] - 0s 2ms/step - loss: 1.1056 - accuracy: 0.4964\n"
          ]
        }
      ],
      "source": [
        "# Evaluate the model\n",
        "loss, accuracy = model.evaluate(X_test, oh_encoded_test)"
      ]
    },
    {
      "cell_type": "code",
      "execution_count": 71,
      "metadata": {},
      "outputs": [
        {
          "name": "stdout",
          "output_type": "stream",
          "text": [
            "244/244 [==============================] - 0s 1ms/step\n"
          ]
        }
      ],
      "source": [
        "# Make predictions\n",
        "predictions = model.predict(X_test)\n",
        "predicted_labels = tf.argmax(predictions, axis=1)"
      ]
    },
    {
      "cell_type": "code",
      "execution_count": 72,
      "metadata": {},
      "outputs": [
        {
          "data": {
            "image/png": "[encoded data removed]",
            "text/plain": [
              "<Figure size 432x288 with 2 Axes>"
            ]
          },
          "metadata": {
            "needs_background": "light"
          },
          "output_type": "display_data"
        }
      ],
      "source": [
        "print_cm(y_test,predicted_labels)"
      ]
    },
    {
      "cell_type": "code",
      "execution_count": 73,
      "metadata": {},
      "outputs": [
        {
          "name": "stdout",
          "output_type": "stream",
          "text": [
            "Accuracy: 0.5153964588144727\n",
            "Precision: 0.4713969628736005\n",
            "Recall: 0.5153964588144727\n",
            "F1 Score: 0.4704386072157805\n"
          ]
        }
      ],
      "source": [
        "calculate_performance_metrics(y_test,y_pred_xb)"
      ]
    },
    {
      "cell_type": "markdown",
      "metadata": {},
      "source": [
        "### TabNet: \n",
        "- TabNet is a deep learning model specifically designed for tabular data. \n",
        "- It uses a modified form of the transformer architecture and employs a combination of sequential and attention-based processing to capture the relationships between different features in the tabular data"
      ]
    },
    {
      "cell_type": "code",
      "execution_count": 78,
      "metadata": {},
      "outputs": [],
      "source": [
        "# ! pip install torch torchvision torchaudio\n",
        "# ! pip install pytorch-tabnet"
      ]
    },
    {
      "cell_type": "code",
      "execution_count": 75,
      "metadata": {},
      "outputs": [],
      "source": [
        "import torch\n",
        "from pytorch_tabnet.tab_model import TabNetClassifier, TabNetRegressor"
      ]
    },
    {
      "cell_type": "code",
      "execution_count": 77,
      "metadata": {},
      "outputs": [],
      "source": [
        "clf = TabNetClassifier()"
      ]
    },
    {
      "cell_type": "code",
      "execution_count": 83,
      "metadata": {},
      "outputs": [
        {
          "name": "stdout",
          "output_type": "stream",
          "text": [
            "epoch 0  | loss: 1.10954 | val_0_accuracy: 0.49397 |  0:00:01s\n",
            "epoch 1  | loss: 1.01139 | val_0_accuracy: 0.505   |  0:00:02s\n",
            "epoch 2  | loss: 0.99893 | val_0_accuracy: 0.51732 |  0:00:03s\n",
            "epoch 3  | loss: 0.99377 | val_0_accuracy: 0.51899 |  0:00:04s\n",
            "epoch 4  | loss: 0.99188 | val_0_accuracy: 0.51886 |  0:00:05s\n",
            "epoch 5  | loss: 0.9912  | val_0_accuracy: 0.51873 |  0:00:06s\n",
            "epoch 6  | loss: 0.98737 | val_0_accuracy: 0.51475 |  0:00:08s\n",
            "epoch 7  | loss: 0.98919 | val_0_accuracy: 0.52168 |  0:00:09s\n",
            "epoch 8  | loss: 0.98701 | val_0_accuracy: 0.5213  |  0:00:10s\n",
            "epoch 9  | loss: 0.98813 | val_0_accuracy: 0.52194 |  0:00:11s\n",
            "epoch 10 | loss: 0.98695 | val_0_accuracy: 0.52079 |  0:00:12s\n",
            "epoch 11 | loss: 0.98425 | val_0_accuracy: 0.52489 |  0:00:13s\n",
            "epoch 12 | loss: 0.98541 | val_0_accuracy: 0.51758 |  0:00:15s\n",
            "epoch 13 | loss: 0.98332 | val_0_accuracy: 0.52284 |  0:00:16s\n",
            "epoch 14 | loss: 0.98252 | val_0_accuracy: 0.52143 |  0:00:17s\n",
            "epoch 15 | loss: 0.98355 | val_0_accuracy: 0.52245 |  0:00:18s\n",
            "epoch 16 | loss: 0.98272 | val_0_accuracy: 0.52232 |  0:00:19s\n",
            "epoch 17 | loss: 0.98295 | val_0_accuracy: 0.52348 |  0:00:20s\n",
            "\n",
            "Early stopping occurred at epoch 17 with best_epoch = 11 and best_val_0_accuracy = 0.52489\n"
          ]
        }
      ],
      "source": [
        "# Fit the model on the training data\n",
        "clf.fit(\n",
        "    X_train=X_train,\n",
        "    y_train=y_train,\n",
        "    eval_set=[(X_test,y_test)],\n",
        "    patience=6,  # Number of epochs with no improvement after which training will be stopped\n",
        "    max_epochs=100,  # Maximum number of training epochs\n",
        ")"
      ]
    },
    {
      "cell_type": "code",
      "execution_count": 86,
      "metadata": {},
      "outputs": [],
      "source": [
        "# Make predictions\n",
        "predictions = clf.predict(X_test)\n",
        "# predicted_labels = tf.argmax(predictions, axis=1)"
      ]
    },
    {
      "cell_type": "code",
      "execution_count": 88,
      "metadata": {},
      "outputs": [
        {
          "data": {
            "image/png": "[encoded data removed]",
            "text/plain": [
              "<Figure size 432x288 with 2 Axes>"
            ]
          },
          "metadata": {
            "needs_background": "light"
          },
          "output_type": "display_data"
        }
      ],
      "source": [
        "print_cm(y_test,predictions)"
      ]
    },
    {
      "cell_type": "markdown",
      "metadata": {},
      "source": [
        "not good."
      ]
    },
    {
      "cell_type": "code",
      "execution_count": null,
      "metadata": {},
      "outputs": [],
      "source": []
    }
  ],
  "metadata": {
    "colab": {
      "provenance": []
    },
    "kernelspec": {
      "display_name": "Python 3",
      "name": "python3"
    },
    "language_info": {
      "codemirror_mode": {
        "name": "ipython",
        "version": 3
      },
      "file_extension": ".py",
      "mimetype": "text/x-python",
      "name": "python",
      "nbconvert_exporter": "python",
      "pygments_lexer": "ipython3",
      "version": "3.8.11"
    }
  },
  "nbformat": 4,
  "nbformat_minor": 0
}
